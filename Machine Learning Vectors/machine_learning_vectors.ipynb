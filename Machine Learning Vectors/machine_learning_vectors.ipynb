{
 "cells": [
  {
   "cell_type": "markdown",
   "metadata": {},
   "source": [
    "# Machine Learning Models and Object Classification\n",
    "- Translation to Vectors: Imagine you have a library where books are organized by topics using a system like the Dewey Decimal System. Each book has a specific place based on its topic. Similarly, machine learning models translate data into vectors (a type of data representation) and place them in a \"vector space\" based on their meaning.\n",
    "\n",
    "- Machine Learning Models: These models, often neural networks, learn to identify and understand different data objects (like images or text). They translate similar objects into vectors that are close together and dissimilar objects into vectors that are farther apart. This helps retain the meaning of the data when it's converted into vectors.\n",
    "\n",
    "- Vector Databases: Vector databases use these AI-generated vectors to perform searches. For example, if you search for \"spicy food recipes,\" the database will find vectors (data points) that are close to this concept in the vector space, giving you relevant results.\n",
    "\n",
    "\n",
    "In essence, machine learning models help convert complex data into a format that computers can understand and work with efficiently, making searches faster and more accurate."
   ]
  },
  {
   "cell_type": "markdown",
   "metadata": {},
   "source": [
    "# Translating data from human to machine-understandable\n",
    "\n",
    "- Machine Learning Models: Think of these models as very smart programs that learn to recognize patterns. For example, they can look at millions of pictures of stop signs and learn what features make a stop sign (like its shape, color, and text).\n",
    "\n",
    "- Vectors: These are like special codes or numbers that represent data. When the model sees a stop sign, it converts the features it recognizes into a vector, a kind of unique fingerprint for that stop sign.\n",
    "\n",
    "- Text Understanding: For text, imagine filling in blanks in sentences. If you see \"The ___ howled at the moon,\" you know \"wolf\" fits. Models learn this by practicing with millions of sentences, understanding which words fit together.\n",
    "\n",
    "- Vector Databases: These databases store all these vectors. When you search for something, the database finds vectors (data points) that are similar to your search, giving you accurate results.\n",
    "\n",
    "\n",
    "In short, machine learning models turn complex data (like images and text) into simple numerical codes (vectors) that computers can easily understand and use for fast, accurate searches."
   ]
  },
  {
   "cell_type": "markdown",
   "metadata": {},
   "source": [
    "# ML models and vector embeddings"
   ]
  },
  {
   "cell_type": "code",
   "execution_count": 2,
   "metadata": {},
   "outputs": [
    {
     "name": "stderr",
     "output_type": "stream",
     "text": [
      "d:\\Vector Databases\\vector-databases-certification\\env\\Lib\\site-packages\\google\\protobuf\\runtime_version.py:112: UserWarning: Protobuf gencode version 5.27.2 is older than the runtime version 5.28.0 at grpc_health/v1/health.proto. Please avoid checked-in Protobuf gencode that can be obsolete.\n",
      "  warnings.warn(\n"
     ]
    }
   ],
   "source": [
    "import pickle\n",
    "import os\n",
    "import json\n",
    "import weaviate"
   ]
  },
  {
   "cell_type": "code",
   "execution_count": 4,
   "metadata": {},
   "outputs": [
    {
     "name": "stdout",
     "output_type": "stream",
     "text": [
      "Client is ready: True\n"
     ]
    }
   ],
   "source": [
    "# Connect to the locallay launched instance of Weaviate\n",
    "client = weaviate.Client(\"http://localhost:8080\")\n",
    "\n",
    "print(f\"Client is ready: {client.is_ready()}\")"
   ]
  },
  {
   "cell_type": "code",
   "execution_count": 5,
   "metadata": {},
   "outputs": [],
   "source": [
    "# Check and delete already existed class\n",
    "current_schema = client.schema.get()['classes']\n",
    "\n",
    "for schema in current_schema:\n",
    "    if schema['class'] == 'ClipExample':\n",
    "        client.schema.delete_class(schema['class'])"
   ]
  },
  {
   "cell_type": "code",
   "execution_count": null,
   "metadata": {},
   "outputs": [],
   "source": [
    "# create a class object that use multi2vec module  \n",
    "class_object = {\n",
    "    \"class\": \"ClipExample\",\n",
    "    \"description\": \"An example class that uses multi2vec module\",\n",
    "    \"properties\": [\n",
    "        {\n",
    "            \"name\": \"title\",\n",
    "            \"dataType\": [\"string\"],\n",
    "            \"description\": \"Title of the clip\"\n",
    "        },\n",
    "        {\n",
    "            \"name\": \"description\",\n",
    "            \"dataType\": [\"string\"],\n",
    "            \"description\": \"Description of the clip\"\n",
    "        },\n",
    "        {\n",
    "            \"name\": \"vector\",\n",
    "            \"dataType\": [\"vector\"],\n",
    "            \"description\": \"Vector of the clip\"\n",
    "        }\n",
    "    ]\n",
    "}"
   ]
  }
 ],
 "metadata": {
  "kernelspec": {
   "display_name": "env",
   "language": "python",
   "name": "python3"
  },
  "language_info": {
   "codemirror_mode": {
    "name": "ipython",
    "version": 3
   },
   "file_extension": ".py",
   "mimetype": "text/x-python",
   "name": "python",
   "nbconvert_exporter": "python",
   "pygments_lexer": "ipython3",
   "version": "3.11.2"
  }
 },
 "nbformat": 4,
 "nbformat_minor": 2
}
