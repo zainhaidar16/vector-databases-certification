{
 "cells": [
  {
   "cell_type": "markdown",
   "metadata": {},
   "source": [
    "* Vector Databases:\n",
    "\n",
    "Vector databases store data in a way that allows for fast and accurate similarity searches. This is particularly useful for tasks like recommendation systems and semantic searches.\n",
    "\n",
    "* Recommender Systems:\n",
    "\n",
    "These systems suggest items to users based on similarities. For example, an e-commerce site might recommend products based on what similar users have purchased.\n",
    "\n",
    "* Hybrid Search:\n",
    "\n",
    "Combines traditional keyword search with vector search. This allows for more accurate and relevant search results by balancing between exact keyword matches and semantic understanding.\n",
    "\n",
    "* Retrieval-Augmented Generation (RAG):\n",
    "\n",
    "RAG is a technique that enhances large language models (LLMs) like ChatGPT by providing them with relevant context from a vector database before generating responses.\n",
    "Steps in RAG:\n",
    "- Query the Vector Database: Retrieve relevant information based on a concept (e.g., animals).\n",
    "- Build a Prompt: Use the retrieved information to create a prompt for the LLM.\n",
    "- Generate Response: The LLM uses the prompt to generate a more accurate and contextually relevant answer.\n",
    "\n",
    "\n",
    "\n",
    "Example Workflow:\n",
    "- Query: Extract three animal-related questions from the database.\n",
    "- Generate Query: Provide these questions to an LLM.\n",
    "- Evaluate: Check how many questions the LLM answered correctly by comparing them to the correct answers in the database.\n",
    "\n",
    "Simplified Analogy:\n",
    "Think of RAG as doing research before writing an essay. You gather relevant information (retrieval), then use that information to write a well-informed essay (generation).\n",
    "\n",
    "Practical Application:\n",
    "In your role, understanding how to use vector databases and RAG can help you build more intelligent data analysis tools, enhancing the accuracy and relevance of your insights."
   ]
  },
  {
   "cell_type": "code",
   "execution_count": 1,
   "metadata": {},
   "outputs": [
    {
     "name": "stderr",
     "output_type": "stream",
     "text": [
      "d:\\Vector Databases\\vector-databases-certification\\env\\Lib\\site-packages\\google\\protobuf\\runtime_version.py:112: UserWarning: Protobuf gencode version 5.27.2 is older than the runtime version 5.28.0 at grpc_health/v1/health.proto. Please avoid checked-in Protobuf gencode that can be obsolete.\n",
      "  warnings.warn(\n"
     ]
    }
   ],
   "source": [
    "import requests\n",
    "import os\n",
    "import json\n",
    "import weaviate\n",
    "from weaviate.embedded import EmbeddedOptions"
   ]
  },
  {
   "cell_type": "code",
   "execution_count": 2,
   "metadata": {},
   "outputs": [
    {
     "name": "stdout",
     "output_type": "stream",
     "text": [
      "<class 'list'>\n",
      "10\n",
      "{\n",
      "  \"Category\": \"SCIENCE\",\n",
      "  \"Question\": \"This organ removes excess glucose from the blood & stores it as glycogen\",\n",
      "  \"Answer\": \"Liver\"\n",
      "}\n"
     ]
    }
   ],
   "source": [
    "# Downlaod the data 'https://raw.githubusercontent.com/weaviate-tutorials/quickstart/main/data/jeopardy_tiny.json'\n",
    "response = requests.get('https://raw.githubusercontent.com/weaviate-tutorials/quickstart/main/data/jeopardy_tiny.json')\n",
    "data = json.loads(response.text)\n",
    "\n",
    "# Parse the json and preview the data using json_prin function\n",
    "def json_print(data):\n",
    "    print(json.dumps(data, indent=2))\n",
    "\n",
    "print(type(data))\n",
    "print(len(data))\n",
    "print(json.dumps(data[0], indent=2))"
   ]
  },
  {
   "cell_type": "code",
   "execution_count": 3,
   "metadata": {},
   "outputs": [
    {
     "name": "stdout",
     "output_type": "stream",
     "text": [
      "Client is ready: True\n"
     ]
    },
    {
     "name": "stderr",
     "output_type": "stream",
     "text": [
      "d:\\Vector Databases\\vector-databases-certification\\env\\Lib\\site-packages\\weaviate\\__init__.py:143: DeprecationWarning: Dep010: Importing AuthApiKey from weaviate is deprecated. Import AuthApiKey from its module: weaviate.auth\n",
      "  _Warnings.root_module_import(name, map_[name])\n",
      "d:\\Vector Databases\\vector-databases-certification\\env\\Lib\\site-packages\\weaviate\\warnings.py:162: DeprecationWarning: Dep016: Python client v3 `weaviate.Client(...)` connections and methods are deprecated. Update\n",
      "            your code to use Python client v4 `weaviate.WeaviateClient` connections and methods.\n",
      "\n",
      "            For Python Client v4 usage, see: https://weaviate.io/developers/weaviate/client-libraries/python\n",
      "            For code migration, see: https://weaviate.io/developers/weaviate/client-libraries/python/v3_v4_migration\n",
      "            \n",
      "  warnings.warn(\n"
     ]
    }
   ],
   "source": [
    "# Load the data into Weaviate\n",
    "cohere_api_key = os.getenv(\"COHERE_APIKEY\")\n",
    "\n",
    "waeivate_api_key = os.getenv(\"WEAVIATE_API_KEY\")\n",
    "\n",
    "openai_api_key = os.getenv(\"OPENAI_API\")\n",
    "\n",
    "auth_config = weaviate.AuthApiKey(api_key=waeivate_api_key)\n",
    "\n",
    "# Connect to the locallay launched instance of Weaviate\n",
    "client = weaviate.Client(\n",
    "        url = \"http://localhost:8080\",\n",
    "        additional_headers={\n",
    "        \"X-Cohere-Api-Key\": cohere_api_key\n",
    "    }\n",
    "\n",
    "    )\n",
    "\n",
    "print(f\"Client is ready: {client.is_ready()}\")"
   ]
  },
  {
   "cell_type": "code",
   "execution_count": 4,
   "metadata": {},
   "outputs": [
    {
     "name": "stdout",
     "output_type": "stream",
     "text": [
      "The schema is already present in the Weaviate instance\n",
      "Schema deleted.\n"
     ]
    }
   ],
   "source": [
    "# Check if the schema is already present in the Weaviate instance\n",
    "if client.schema.exists(\"Question\"):\n",
    "    print(\"The schema is already present in the Weaviate instance\")\n",
    "    client.schema.delete_class(\"Question\")\n",
    "\n",
    "print(\"Schema deleted.\")"
   ]
  },
  {
   "cell_type": "code",
   "execution_count": 5,
   "metadata": {},
   "outputs": [
    {
     "name": "stdout",
     "output_type": "stream",
     "text": [
      "Class created\n"
     ]
    }
   ],
   "source": [
    "# Create class object\n",
    "class_obj = {\n",
    "    \"class\": \"Question\",\n",
    "    \"vectorizer\": \"text2vec-cohere\",\n",
    "}\n",
    "\n",
    "client.schema.create_class(class_obj)\n",
    "print(\"Class created\")"
   ]
  },
  {
   "cell_type": "code",
   "execution_count": 6,
   "metadata": {},
   "outputs": [
    {
     "name": "stdout",
     "output_type": "stream",
     "text": [
      "importing question: 1\n",
      "importing question: 2\n",
      "importing question: 3\n",
      "importing question: 4\n",
      "importing question: 5\n",
      "importing question: 6\n",
      "importing question: 7\n",
      "importing question: 8\n",
      "importing question: 9\n",
      "importing question: 10\n"
     ]
    }
   ],
   "source": [
    "with client.batch.configure() as batch:\n",
    "    for i, d in enumerate(data):  # Batch import data\n",
    "        \n",
    "        print(f\"importing question: {i+1}\")\n",
    "        \n",
    "        properties = {\n",
    "            \"answer\": d[\"Answer\"],\n",
    "            \"question\": d[\"Question\"],\n",
    "            \"category\": d[\"Category\"],\n",
    "        }\n",
    "        \n",
    "        batch.add_data_object(\n",
    "            data_object=properties,\n",
    "            class_name=\"Question\"\n",
    "        )"
   ]
  },
  {
   "cell_type": "code",
   "execution_count": 7,
   "metadata": {},
   "outputs": [
    {
     "name": "stdout",
     "output_type": "stream",
     "text": [
      "{\n",
      "  \"data\": {\n",
      "    \"Aggregate\": {\n",
      "      \"Question\": [\n",
      "        {\n",
      "          \"meta\": {\n",
      "            \"count\": 10\n",
      "          }\n",
      "        }\n",
      "      ]\n",
      "    }\n",
      "  }\n",
      "}\n"
     ]
    }
   ],
   "source": [
    "json_print(client.query.aggregate('Question').with_meta_count().do())"
   ]
  },
  {
   "cell_type": "code",
   "execution_count": 11,
   "metadata": {},
   "outputs": [
    {
     "name": "stdout",
     "output_type": "stream",
     "text": [
      "{\n",
      "  \"data\": {\n",
      "    \"Get\": {\n",
      "      \"Question\": [\n",
      "        {\n",
      "          \"question\": \"It's the only living mammal in the order Proboseidea\"\n",
      "        },\n",
      "        {\n",
      "          \"question\": \"Weighing around a ton, the eland is the largest species of this animal in Africa\"\n",
      "        },\n",
      "        {\n",
      "          \"question\": \"The gavial looks very much like a crocodile except for this bodily feature\"\n",
      "        }\n",
      "      ]\n",
      "    }\n",
      "  }\n",
      "}\n"
     ]
    }
   ],
   "source": [
    "# Q1 - Query: Extract three animal-related questions from the database.\n",
    "response = (\n",
    "    client.query\n",
    "    .get('Question', ['question'])\n",
    "    .with_near_text({\"concepts\": \"animal\"})\n",
    "    .with_limit(3)\n",
    "    .do() \n",
    "    )\n",
    "json_print(response)"
   ]
  },
  {
   "cell_type": "code",
   "execution_count": 12,
   "metadata": {},
   "outputs": [
    {
     "name": "stdout",
     "output_type": "stream",
     "text": [
      "{\n",
      "  \"data\": {\n",
      "    \"Get\": {\n",
      "      \"Question\": [\n",
      "        {\n",
      "          \"_additional\": {\n",
      "            \"generate\": {\n",
      "              \"error\": null,\n",
      "              \"singleResult\": \"The only living mammal in the order Proboscidea is the elephant.\"\n",
      "            }\n",
      "          },\n",
      "          \"question\": \"It's the only living mammal in the order Proboseidea\"\n",
      "        },\n",
      "        {\n",
      "          \"_additional\": {\n",
      "            \"generate\": {\n",
      "              \"error\": null,\n",
      "              \"singleResult\": \"The largest species of animal in Africa weighing around a ton would be the African elephant.\"\n",
      "            }\n",
      "          },\n",
      "          \"question\": \"Weighing around a ton, the eland is the largest species of this animal in Africa\"\n",
      "        },\n",
      "        {\n",
      "          \"_additional\": {\n",
      "            \"generate\": {\n",
      "              \"error\": null,\n",
      "              \"singleResult\": \"Here are the questions I can answer about the gavial:\\n\\n1. What bodily feature distinguishes the gavial from a crocodile? \\nThe long, slender snout is a distinguishing feature of the gavial, which is more pronounced and thinner than that of a crocodile.\\n\\n2. Are gavials larger than crocodiles? \\nNo, in fact, the opposite is true. Gavials are generally smaller than crocodiles. While both can grow to impressive sizes, the average length of an adult gavial is around 4 to 5 meters (13 to 16 feet), which is considerably shorter than the average crocodile.\\n\\n3. Do gavials have a more diverse diet than crocodiles? \\nI don't know.\\n\\n4. What color is the gavial's skin, and does it serve a purpose? \\nThe skin of the gavial is typically a pale yellow or brown color, and it may have a lighter underside. This coloring could potentially provide camouflage in their aquatic environment or help them regulate their body temperature through thermoregulation.\\n\\n5. Where do gavials primarily live? \\nGavials are mainly found in the freshwater habitats of South Asia, particularly in India and Nepal. They inhabit rivers and wetlands, favoring areas with slower-moving waters.\\n\\n6. Are gavials considered dangerous to humans? \\nWhile gavials are typically shy and reclusive, they are considered potentially dangerous due to their sizable jaws and powerful bite. However, they are not known to be aggressive towards humans unless provoked or threatened.\\n\\n7. How do gavials reproduce, and what is the average lifespan? \\nGavials reproduce through oviparous means, meaning they lay eggs. The female gavial constructs a nest on the ground near the water's edge, typically in sandy areas. The eggs are then incubated by the sun's heat and possibly by the female gavial. The average lifespan of gavials is not well-documented, but some estimates suggest they may live up to 50 years in the wild.\\n\\n8. What are some threats to the survival of the gavial species? \\nGavials face several significant threats, including habitat loss due to human activity, such as deforestation and the development of wetlands. They are also impacted by water pollution and accidental capture in fishing nets. These factors have contributed to a decline in their population, leading to their classification as a critically endangered species.\\n\\n9. Are there any notable cultural or mythological references to gavials? \\nIn Hindu mythology, the gavial plays a role in certain legends and is sometimes associated with the deity Ganga, representing the sacred river Ganges. The gavial is often revered and considered a powerful creature in this cultural context.\\n\\nIf you have any further questions about the gavial or other topics, feel free to ask!\"\n",
      "            }\n",
      "          },\n",
      "          \"question\": \"The gavial looks very much like a crocodile except for this bodily feature\"\n",
      "        }\n",
      "      ]\n",
      "    }\n",
      "  }\n",
      "}\n"
     ]
    }
   ],
   "source": [
    "# Q2 - Generate Query: Provide these questions to an LLM.\n",
    "prompt = \"Answer these questions {question}. If you don't know the answer, you can say 'I don't know'.\"\n",
    "\n",
    "response = (\n",
    "    client.query\n",
    "    .get('Question', ['question'])\n",
    "    .with_near_text({\"concepts\": \"animal\"})\n",
    "    .with_generate(prompt)\n",
    "    .with_limit(3)\n",
    "    .do() \n",
    "    )\n",
    "\n",
    "json_print(response)"
   ]
  },
  {
   "cell_type": "code",
   "execution_count": 13,
   "metadata": {},
   "outputs": [
    {
     "name": "stdout",
     "output_type": "stream",
     "text": [
      "{\n",
      "  \"data\": {\n",
      "    \"Get\": {\n",
      "      \"Question\": [\n",
      "        {\n",
      "          \"_additional\": {\n",
      "            \"generate\": {\n",
      "              \"error\": null,\n",
      "              \"singleResult\": \"The only living mammal in the order Proboscidea is the elephant.\"\n",
      "            }\n",
      "          },\n",
      "          \"answer\": \"Elephant\",\n",
      "          \"question\": \"It's the only living mammal in the order Proboseidea\"\n",
      "        },\n",
      "        {\n",
      "          \"_additional\": {\n",
      "            \"generate\": {\n",
      "              \"error\": null,\n",
      "              \"singleResult\": \"The largest species of animal in Africa weighing around a ton would be the African elephant.\"\n",
      "            }\n",
      "          },\n",
      "          \"answer\": \"Antelope\",\n",
      "          \"question\": \"Weighing around a ton, the eland is the largest species of this animal in Africa\"\n",
      "        },\n",
      "        {\n",
      "          \"_additional\": {\n",
      "            \"generate\": {\n",
      "              \"error\": null,\n",
      "              \"singleResult\": \"Here are the questions I can answer about the gavial:\\n\\n1. What bodily feature distinguishes the gavial from a crocodile? \\nThe long, slender snout is a distinguishing feature of the gavial, which is more pronounced and thinner than that of a crocodile.\\n\\n2. Are gavials larger than crocodiles? \\nNo, in fact, the opposite is true. Gavials are generally smaller than crocodiles. While both can grow to impressive sizes, the average length of an adult gavial is around 4 to 5 meters (13 to 16 feet), which is considerably shorter than the average crocodile.\\n\\n3. Do gavials have a more diverse diet than crocodiles? \\nI don't know.\\n\\n4. What color is the gavial's skin, and does it serve a purpose? \\nThe skin of the gavial is typically a pale yellow or brown color, and it may have a lighter underside. This coloring could potentially provide camouflage in their aquatic environment or help them regulate their body temperature through thermoregulation.\\n\\n5. Where do gavials primarily live? \\nGavials are mainly found in the freshwater habitats of South Asia, particularly in India and Nepal. They inhabit rivers and wetlands, favoring areas with slower-moving waters.\\n\\n6. Are gavials considered dangerous to humans? \\nWhile gavials are typically shy and reclusive, they are considered potentially dangerous due to their sizable jaws and powerful bite. However, they are not known to be aggressive towards humans unless provoked or threatened.\\n\\n7. How do gavials reproduce, and what is the average lifespan? \\nGavials reproduce through oviparous means, meaning they lay eggs. The female gavial constructs a nest on the ground near the water's edge, typically in sandy areas. The eggs are then incubated by the sun's heat and possibly by the female gavial. The average lifespan of gavials is not well-documented, but some estimates suggest they may live up to 50 years in the wild.\\n\\n8. What are some threats to the survival of the gavial species? \\nGavials face several significant threats, including habitat loss due to human activity, such as deforestation and the development of wetlands. They are also impacted by water pollution and accidental capture in fishing nets. These factors have contributed to a decline in their population, leading to their classification as a critically endangered species.\\n\\n9. Are there any notable cultural or mythological references to gavials? \\nIn Hindu mythology, the gavial plays a role in certain legends and is sometimes associated with the deity Ganga, representing the sacred river Ganges. The gavial is often revered and considered a powerful creature in this cultural context.\\n\\nIf you have any further questions about the gavial or other topics, feel free to ask!\"\n",
      "            }\n",
      "          },\n",
      "          \"answer\": \"the nose or snout\",\n",
      "          \"question\": \"The gavial looks very much like a crocodile except for this bodily feature\"\n",
      "        }\n",
      "      ]\n",
      "    }\n",
      "  }\n",
      "}\n"
     ]
    }
   ],
   "source": [
    "# Q3 - Evaluate: Check how many questions the LLM answered correctly by comparing them to the correct answers in the database.\n",
    "response = (\n",
    "    client.query\n",
    "    .get('Question', ['question', 'answer'])\n",
    "    .with_near_text({\"concepts\": \"animal\"})\n",
    "    .with_generate(prompt)\n",
    "    .with_limit(3)\n",
    "    .do() \n",
    "    )\n",
    "\n",
    "json_print(response)"
   ]
  },
  {
   "cell_type": "code",
   "execution_count": null,
   "metadata": {},
   "outputs": [],
   "source": []
  }
 ],
 "metadata": {
  "kernelspec": {
   "display_name": "env",
   "language": "python",
   "name": "python3"
  },
  "language_info": {
   "codemirror_mode": {
    "name": "ipython",
    "version": 3
   },
   "file_extension": ".py",
   "mimetype": "text/x-python",
   "name": "python",
   "nbconvert_exporter": "python",
   "pygments_lexer": "ipython3",
   "version": "3.11.2"
  }
 },
 "nbformat": 4,
 "nbformat_minor": 2
}
