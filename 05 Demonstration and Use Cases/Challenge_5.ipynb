{
 "cells": [
  {
   "cell_type": "markdown",
   "metadata": {},
   "source": [
    "* Vector Databases:\n",
    "\n",
    "Vector databases store data in a way that allows for fast and accurate similarity searches. This is particularly useful for tasks like recommendation systems and semantic searches.\n",
    "\n",
    "* Recommender Systems:\n",
    "\n",
    "These systems suggest items to users based on similarities. For example, an e-commerce site might recommend products based on what similar users have purchased.\n",
    "\n",
    "* Hybrid Search:\n",
    "\n",
    "Combines traditional keyword search with vector search. This allows for more accurate and relevant search results by balancing between exact keyword matches and semantic understanding.\n",
    "\n",
    "* Retrieval-Augmented Generation (RAG):\n",
    "\n",
    "RAG is a technique that enhances large language models (LLMs) like ChatGPT by providing them with relevant context from a vector database before generating responses.\n",
    "Steps in RAG:\n",
    "- Query the Vector Database: Retrieve relevant information based on a concept (e.g., animals).\n",
    "- Build a Prompt: Use the retrieved information to create a prompt for the LLM.\n",
    "- Generate Response: The LLM uses the prompt to generate a more accurate and contextually relevant answer.\n",
    "\n",
    "\n",
    "\n",
    "Example Workflow:\n",
    "- Query: Extract three animal-related questions from the database.\n",
    "- Generate Query: Provide these questions to an LLM.\n",
    "- Evaluate: Check how many questions the LLM answered correctly by comparing them to the correct answers in the database.\n",
    "\n",
    "Simplified Analogy:\n",
    "Think of RAG as doing research before writing an essay. You gather relevant information (retrieval), then use that information to write a well-informed essay (generation).\n",
    "\n",
    "Practical Application:\n",
    "In your role, understanding how to use vector databases and RAG can help you build more intelligent data analysis tools, enhancing the accuracy and relevance of your insights."
   ]
  },
  {
   "cell_type": "code",
   "execution_count": 1,
   "metadata": {},
   "outputs": [
    {
     "name": "stderr",
     "output_type": "stream",
     "text": [
      "d:\\Vector Databases\\vector-databases-certification\\env\\Lib\\site-packages\\google\\protobuf\\runtime_version.py:112: UserWarning: Protobuf gencode version 5.27.2 is older than the runtime version 5.28.0 at grpc_health/v1/health.proto. Please avoid checked-in Protobuf gencode that can be obsolete.\n",
      "  warnings.warn(\n"
     ]
    }
   ],
   "source": [
    "import requests\n",
    "import os\n",
    "import json\n",
    "import weaviate\n",
    "from weaviate.embedded import EmbeddedOptions"
   ]
  },
  {
   "cell_type": "code",
   "execution_count": 2,
   "metadata": {},
   "outputs": [
    {
     "name": "stdout",
     "output_type": "stream",
     "text": [
      "<class 'list'>\n",
      "10\n",
      "{\n",
      "  \"Category\": \"SCIENCE\",\n",
      "  \"Question\": \"This organ removes excess glucose from the blood & stores it as glycogen\",\n",
      "  \"Answer\": \"Liver\"\n",
      "}\n"
     ]
    }
   ],
   "source": [
    "# Downlaod the data 'https://raw.githubusercontent.com/weaviate-tutorials/quickstart/main/data/jeopardy_tiny.json'\n",
    "response = requests.get('https://raw.githubusercontent.com/weaviate-tutorials/quickstart/main/data/jeopardy_tiny.json')\n",
    "data = json.loads(response.text)\n",
    "\n",
    "# Parse the json and preview the data using json_prin function\n",
    "def json_print(data):\n",
    "    print(json.dumps(data, indent=2))\n",
    "\n",
    "print(type(data))\n",
    "print(len(data))\n",
    "print(json.dumps(data[0], indent=2))"
   ]
  },
  {
   "cell_type": "code",
   "execution_count": 3,
   "metadata": {},
   "outputs": [
    {
     "name": "stdout",
     "output_type": "stream",
     "text": [
      "Client is ready: True\n"
     ]
    },
    {
     "name": "stderr",
     "output_type": "stream",
     "text": [
      "d:\\Vector Databases\\vector-databases-certification\\env\\Lib\\site-packages\\weaviate\\__init__.py:143: DeprecationWarning: Dep010: Importing AuthApiKey from weaviate is deprecated. Import AuthApiKey from its module: weaviate.auth\n",
      "  _Warnings.root_module_import(name, map_[name])\n",
      "d:\\Vector Databases\\vector-databases-certification\\env\\Lib\\site-packages\\weaviate\\warnings.py:162: DeprecationWarning: Dep016: Python client v3 `weaviate.Client(...)` connections and methods are deprecated. Update\n",
      "            your code to use Python client v4 `weaviate.WeaviateClient` connections and methods.\n",
      "\n",
      "            For Python Client v4 usage, see: https://weaviate.io/developers/weaviate/client-libraries/python\n",
      "            For code migration, see: https://weaviate.io/developers/weaviate/client-libraries/python/v3_v4_migration\n",
      "            \n",
      "  warnings.warn(\n"
     ]
    }
   ],
   "source": [
    "# Load the data into Weaviate\n",
    "cohere_api_key = os.getenv(\"COHERE_APIKEY\")\n",
    "\n",
    "waeivate_api_key = os.getenv(\"WEAVIATE_API_KEY\")\n",
    "\n",
    "openai_api_key = os.getenv(\"OPENAI_API\")\n",
    "\n",
    "auth_config = weaviate.AuthApiKey(api_key=waeivate_api_key)\n",
    "\n",
    "# Connect to the locallay launched instance of Weaviate\n",
    "client = weaviate.Client(\n",
    "        url = \"http://localhost:8080\",\n",
    "        additional_headers={\n",
    "        \"X-Cohere-Api-Key\": cohere_api_key\n",
    "    }\n",
    "\n",
    "    )\n",
    "\n",
    "print(f\"Client is ready: {client.is_ready()}\")"
   ]
  },
  {
   "cell_type": "code",
   "execution_count": null,
   "metadata": {},
   "outputs": [],
   "source": []
  }
 ],
 "metadata": {
  "kernelspec": {
   "display_name": "env",
   "language": "python",
   "name": "python3"
  },
  "language_info": {
   "codemirror_mode": {
    "name": "ipython",
    "version": 3
   },
   "file_extension": ".py",
   "mimetype": "text/x-python",
   "name": "python",
   "nbconvert_exporter": "python",
   "pygments_lexer": "ipython3",
   "version": "3.11.2"
  }
 },
 "nbformat": 4,
 "nbformat_minor": 2
}
