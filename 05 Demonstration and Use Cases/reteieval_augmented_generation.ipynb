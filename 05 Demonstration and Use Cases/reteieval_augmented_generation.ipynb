{
 "cells": [
  {
   "cell_type": "markdown",
   "metadata": {},
   "source": [
    "**Retrieval-Augmented Generation (RAG)** is a technique that helps improve the answers provided by large language models (like ChatGPT) by giving them additional relevant information before they generate a response. Here's a step-by-step breakdown:\n",
    "\n",
    "-  Imagine you have a question about a specific topic (e.g., animals). You first search a special database (vector database) that stores information in a way that helps find similar concepts.\n",
    "\n",
    "- Retrieve Relevant Information: The database returns the most relevant pieces of information related to your query (e.g., facts about elephants and other animals).\n",
    "\n",
    "- Build a Prompt: You then create a prompt (a set of instructions) that includes the retrieved information. This is like gathering notes before writing an essay.\n",
    "\n",
    "- Generate an Answer: Finally, you feed this prompt into the language model (like ChatGPT), which uses the provided information to generate a more accurate and informed answer.\n",
    "\n",
    "\n",
    "In simple terms, RAG is like doing a quick research before answering a question, ensuring that the response is based on the most relevant and up-to-date information available. This helps the language model provide better and more accurate answers, even if it wasn't originally trained on that specific information."
   ]
  },
  {
   "cell_type": "code",
   "execution_count": 50,
   "metadata": {},
   "outputs": [],
   "source": [
    "import requests\n",
    "import os\n",
    "import json\n",
    "import weaviate\n",
    "from weaviate.embedded import EmbeddedOptions"
   ]
  },
  {
   "cell_type": "code",
   "execution_count": 51,
   "metadata": {},
   "outputs": [
    {
     "name": "stdout",
     "output_type": "stream",
     "text": [
      "<class 'list'>\n",
      "10\n",
      "{\n",
      "  \"Category\": \"SCIENCE\",\n",
      "  \"Question\": \"This organ removes excess glucose from the blood & stores it as glycogen\",\n",
      "  \"Answer\": \"Liver\"\n",
      "}\n"
     ]
    }
   ],
   "source": [
    "# download the data\n",
    "# Downlaod the data https://raw.githubusercontent.com/weaviate-tutorials/quickstart/main/data/jeopardy_tiny.json\n",
    "response = requests.get('https://raw.githubusercontent.com/weaviate-tutorials/quickstart/main/data/jeopardy_tiny.json')\n",
    "data = json.loads(response.text)\n",
    "\n",
    "# Parse the json and preview the data using json_prin function\n",
    "def json_print(data):\n",
    "    print(json.dumps(data, indent=2))\n",
    "\n",
    "print(type(data))\n",
    "print(len(data))\n",
    "print(json.dumps(data[0], indent=2))"
   ]
  },
  {
   "cell_type": "code",
   "execution_count": 52,
   "metadata": {},
   "outputs": [
    {
     "name": "stderr",
     "output_type": "stream",
     "text": [
      "d:\\Vector Databases\\vector-databases-certification\\env\\Lib\\site-packages\\weaviate\\__init__.py:143: DeprecationWarning: Dep010: Importing AuthApiKey from weaviate is deprecated. Import AuthApiKey from its module: weaviate.auth\n",
      "  _Warnings.root_module_import(name, map_[name])\n",
      "d:\\Vector Databases\\vector-databases-certification\\env\\Lib\\site-packages\\weaviate\\warnings.py:162: DeprecationWarning: Dep016: Python client v3 `weaviate.Client(...)` connections and methods are deprecated. Update\n",
      "            your code to use Python client v4 `weaviate.WeaviateClient` connections and methods.\n",
      "\n",
      "            For Python Client v4 usage, see: https://weaviate.io/developers/weaviate/client-libraries/python\n",
      "            For code migration, see: https://weaviate.io/developers/weaviate/client-libraries/python/v3_v4_migration\n",
      "            \n",
      "  warnings.warn(\n"
     ]
    },
    {
     "name": "stdout",
     "output_type": "stream",
     "text": [
      "Client is ready: True\n"
     ]
    },
    {
     "data": {
      "text/plain": [
       "'client = weaviate.Client(\\n    url=\"https://e2pxfwhqioinxijlmnqxw.c0.europe-west3.gcp.weaviate.cloud\",\\n    auth_client_secret=auth_config,\\n    additional_headers={\\n        \"X-Cohere-Api-Key\": cohere_api_key\\n        #\"X-Google-Studio-Api-Key\": ai_studio_api_key\\n        #\"X-OpenAI-Api-Key\": openai_api_key\\n    }\\n)'"
      ]
     },
     "execution_count": 52,
     "metadata": {},
     "output_type": "execute_result"
    }
   ],
   "source": [
    "# Load the data into Weaviate\n",
    "cohere_api_key = os.getenv(\"COHERE_APIKEY\")\n",
    "\n",
    "waeivate_api_key = os.getenv(\"WEAVIATE_API_KEY\")\n",
    "\n",
    "openai_api_key = os.getenv(\"OPENAI_API\")\n",
    "\n",
    "auth_config = weaviate.AuthApiKey(api_key=waeivate_api_key)\n",
    "\n",
    "# Connect to the locallay launched instance of Weaviate\n",
    "client = weaviate.Client(\n",
    "        url = \"http://localhost:8080\",\n",
    "        additional_headers={\n",
    "        \"X-Cohere-Api-Key\": cohere_api_key\n",
    "        #\"X-Google-Studio-Api-Key\": ai_studio_api_key\n",
    "        #\"X-OpenAI-Api-Key\": openai_api_key\n",
    "    }\n",
    "\n",
    "    )\n",
    "\n",
    "print(f\"Client is ready: {client.is_ready()}\")\n",
    "\n",
    "\"\"\"client = weaviate.Client(\n",
    "    url=\"https://e2pxfwhqioinxijlmnqxw.c0.europe-west3.gcp.weaviate.cloud\",\n",
    "    auth_client_secret=auth_config,\n",
    "    additional_headers={\n",
    "        \"X-Cohere-Api-Key\": cohere_api_key\n",
    "        #\"X-Google-Studio-Api-Key\": ai_studio_api_key\n",
    "        #\"X-OpenAI-Api-Key\": openai_api_key\n",
    "    }\n",
    ")\"\"\"\n",
    "\n",
    "#print(\"client created\")"
   ]
  },
  {
   "cell_type": "code",
   "execution_count": 53,
   "metadata": {},
   "outputs": [
    {
     "name": "stdout",
     "output_type": "stream",
     "text": [
      "Class Deleted Successfully\n"
     ]
    }
   ],
   "source": [
    "# Check and delete already existed class\n",
    "if client.schema.exists(\"Question\"):\n",
    "    client.schema.delete_class(\"Question\")\n",
    "print(\"Class Deleted Successfully\")"
   ]
  },
  {
   "cell_type": "code",
   "execution_count": 55,
   "metadata": {},
   "outputs": [
    {
     "name": "stdout",
     "output_type": "stream",
     "text": [
      "Class created\n"
     ]
    }
   ],
   "source": [
    "# Create class object\n",
    "class_obj = {\n",
    "    \"class\": \"Question\",\n",
    "    \"vectorizer\": \"text2vec-cohere\",\n",
    "}\n",
    "\n",
    "client.schema.create_class(class_obj)\n",
    "print(\"Class created\")"
   ]
  },
  {
   "cell_type": "code",
   "execution_count": 56,
   "metadata": {},
   "outputs": [
    {
     "name": "stdout",
     "output_type": "stream",
     "text": [
      "importing question: 1\n",
      "importing question: 2\n",
      "importing question: 3\n",
      "importing question: 4\n",
      "importing question: 5\n",
      "importing question: 6\n",
      "importing question: 7\n",
      "importing question: 8\n",
      "importing question: 9\n",
      "importing question: 10\n",
      "{'error': [{'message': 'Cohere API Key: no api key found neither in request header: X-Cohere-Api-Key nor in environment variable under COHERE_APIKEY'}]}\n",
      "{'error': [{'message': 'Cohere API Key: no api key found neither in request header: X-Cohere-Api-Key nor in environment variable under COHERE_APIKEY'}]}\n",
      "{'error': [{'message': 'Cohere API Key: no api key found neither in request header: X-Cohere-Api-Key nor in environment variable under COHERE_APIKEY'}]}\n",
      "{'error': [{'message': 'Cohere API Key: no api key found neither in request header: X-Cohere-Api-Key nor in environment variable under COHERE_APIKEY'}]}\n",
      "{'error': [{'message': 'Cohere API Key: no api key found neither in request header: X-Cohere-Api-Key nor in environment variable under COHERE_APIKEY'}]}\n",
      "{'error': [{'message': 'Cohere API Key: no api key found neither in request header: X-Cohere-Api-Key nor in environment variable under COHERE_APIKEY'}]}\n",
      "{'error': [{'message': 'Cohere API Key: no api key found neither in request header: X-Cohere-Api-Key nor in environment variable under COHERE_APIKEY'}]}\n",
      "{'error': [{'message': 'Cohere API Key: no api key found neither in request header: X-Cohere-Api-Key nor in environment variable under COHERE_APIKEY'}]}\n",
      "{'error': [{'message': 'Cohere API Key: no api key found neither in request header: X-Cohere-Api-Key nor in environment variable under COHERE_APIKEY'}]}\n",
      "{'error': [{'message': 'Cohere API Key: no api key found neither in request header: X-Cohere-Api-Key nor in environment variable under COHERE_APIKEY'}]}\n"
     ]
    }
   ],
   "source": [
    "with client.batch.configure() as batch:\n",
    "    for i, d in enumerate(data):  # Batch import data\n",
    "        \n",
    "        print(f\"importing question: {i+1}\")\n",
    "        \n",
    "        properties = {\n",
    "            \"answer\": d[\"Answer\"],\n",
    "            \"question\": d[\"Question\"],\n",
    "            \"category\": d[\"Category\"],\n",
    "        }\n",
    "        \n",
    "        batch.add_data_object(\n",
    "            data_object=properties,\n",
    "            class_name=\"Question\"\n",
    "        )"
   ]
  },
  {
   "cell_type": "code",
   "execution_count": null,
   "metadata": {},
   "outputs": [
    {
     "name": "stdout",
     "output_type": "stream",
     "text": [
      "{\n",
      "  \"data\": {\n",
      "    \"Aggregate\": {\n",
      "      \"Question\": [\n",
      "        {\n",
      "          \"meta\": {\n",
      "            \"count\": 0\n",
      "          }\n",
      "        }\n",
      "      ]\n",
      "    }\n",
      "  }\n",
      "}\n"
     ]
    }
   ],
   "source": [
    "json_print(client.query.aggregate('Question').with_meta_count().do())"
   ]
  },
  {
   "cell_type": "code",
   "execution_count": null,
   "metadata": {},
   "outputs": [
    {
     "name": "stdout",
     "output_type": "stream",
     "text": [
      "{\n",
      "  \"data\": {\n",
      "    \"Get\": {\n",
      "      \"Question\": null\n",
      "    }\n",
      "  },\n",
      "  \"errors\": [\n",
      "    {\n",
      "      \"locations\": [\n",
      "        {\n",
      "          \"column\": 6,\n",
      "          \"line\": 1\n",
      "        }\n",
      "      ],\n",
      "      \"message\": \"explorer: get class: vectorize params: vectorize params: vectorize params: vectorize keywords: remote client vectorize: API Key: no api key found neither in request header: X-Openai-Api-Key nor in environment variable under OPENAI_APIKEY\",\n",
      "      \"path\": [\n",
      "        \"Get\",\n",
      "        \"Question\"\n",
      "      ]\n",
      "    }\n",
      "  ]\n",
      "}\n"
     ]
    }
   ],
   "source": [
    "# write a query for vector search related to the concept animals\n",
    "repsonse = (\n",
    "    client.query.get('Question', 'answer')\n",
    "    .with_near_text({\"concepts\": \"animals\"})\n",
    "    .with_limit(5)\n",
    "    .do()\n",
    ")\n",
    "\n",
    "print(json.dumps(repsonse, indent=2))"
   ]
  },
  {
   "cell_type": "code",
   "execution_count": null,
   "metadata": {},
   "outputs": [],
   "source": [
    "# Pass each of these objects to a LLM individually to use when answering a prompt\n",
    "\n",
    "# write a prompt that uses the animal object and passes it to the LLM\n",
    "prompt = \"Tell me a story about this animal {answer}!\""
   ]
  },
  {
   "cell_type": "code",
   "execution_count": null,
   "metadata": {},
   "outputs": [
    {
     "name": "stdout",
     "output_type": "stream",
     "text": [
      "{\n",
      "  \"errors\": [\n",
      "    {\n",
      "      \"locations\": [\n",
      "        {\n",
      "          \"column\": 80,\n",
      "          \"line\": 1\n",
      "        }\n",
      "      ],\n",
      "      \"message\": \"Cannot query field \\\"generate\\\" on type \\\"QuestionAdditional\\\".\",\n",
      "      \"path\": null\n",
      "    }\n",
      "  ]\n",
      "}\n"
     ]
    }
   ],
   "source": [
    "# Write a query to perform RAG\n",
    "response = (client.query\n",
    "            .get(\"Question\", \"answer\")\n",
    "            .with_near_text({\"concepts\": \"animals\"})\n",
    "            .with_generate(single_prompt=\"Tell me a story about this animal {answer}!\")\n",
    "            .with_limit(5)\n",
    "            .do()\n",
    "            )\n",
    "\n",
    "json_print(response)"
   ]
  },
  {
   "cell_type": "code",
   "execution_count": null,
   "metadata": {},
   "outputs": [
    {
     "name": "stdout",
     "output_type": "stream",
     "text": [
      "{\n",
      "  \"data\": {\n",
      "    \"Get\": {\n",
      "      \"Question\": null\n",
      "    }\n",
      "  },\n",
      "  \"errors\": [\n",
      "    {\n",
      "      \"locations\": [\n",
      "        {\n",
      "          \"column\": 6,\n",
      "          \"line\": 1\n",
      "        }\n",
      "      ],\n",
      "      \"message\": \"explorer: get class: vectorize params: vectorize params: vectorize params: vectorize keywords: remote client vectorize: API Key: no api key found neither in request header: X-Openai-Api-Key nor in environment variable under OPENAI_APIKEY\",\n",
      "      \"path\": [\n",
      "        \"Get\",\n",
      "        \"Question\"\n",
      "      ]\n",
      "    }\n",
      "  ]\n",
      "}\n"
     ]
    }
   ],
   "source": [
    "# Extract All Categories\n",
    "response = (client.query\n",
    "            .get(\"Question\", 'category')\n",
    "            .with_near_text({'concepts':'animals'})\n",
    "            .with_limit(10)\n",
    "            .do()\n",
    "           )\n",
    "\n",
    "json_print(response)"
   ]
  },
  {
   "cell_type": "code",
   "execution_count": null,
   "metadata": {},
   "outputs": [],
   "source": []
  }
 ],
 "metadata": {
  "kernelspec": {
   "display_name": "env",
   "language": "python",
   "name": "python3"
  },
  "language_info": {
   "codemirror_mode": {
    "name": "ipython",
    "version": 3
   },
   "file_extension": ".py",
   "mimetype": "text/x-python",
   "name": "python",
   "nbconvert_exporter": "python",
   "pygments_lexer": "ipython3",
   "version": "3.11.2"
  }
 },
 "nbformat": 4,
 "nbformat_minor": 2
}
