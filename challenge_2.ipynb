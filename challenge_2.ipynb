{
 "cells": [
  {
   "cell_type": "markdown",
   "metadata": {},
   "source": [
    "## Load the data"
   ]
  },
  {
   "cell_type": "code",
   "execution_count": 1,
   "metadata": {},
   "outputs": [],
   "source": [
    "import requests\n",
    "import json"
   ]
  },
  {
   "cell_type": "code",
   "execution_count": 7,
   "metadata": {},
   "outputs": [
    {
     "name": "stdout",
     "output_type": "stream",
     "text": [
      "<class 'list'>\n",
      "10\n",
      "{'Category': 'SCIENCE', 'Question': 'This organ removes excess glucose from the blood & stores it as glycogen', 'Answer': 'Liver'}\n"
     ]
    }
   ],
   "source": [
    "# download the data\n",
    "\n",
    "url = \"https://raw.githubusercontent.com/weaviate-tutorials/quickstart/main/data/jeopardy_tiny.json\"\n",
    "response = requests.get(url)\n",
    "data = json.loads(response.text)\n",
    "\n",
    "# Preview the data type and length\n",
    "print(type(data))\n",
    "print(len(data))\n",
    "\n",
    "# Preview the first entry\n",
    "print(data[0])\n"
   ]
  },
  {
   "cell_type": "code",
   "execution_count": 10,
   "metadata": {},
   "outputs": [
    {
     "name": "stdout",
     "output_type": "stream",
     "text": [
      "[\n",
      "  {\n",
      "    \"Category\": \"SCIENCE\",\n",
      "    \"Question\": \"This organ removes excess glucose from the blood & stores it as glycogen\",\n",
      "    \"Answer\": \"Liver\"\n",
      "  },\n",
      "  {\n",
      "    \"Category\": \"ANIMALS\",\n",
      "    \"Question\": \"It's the only living mammal in the order Proboseidea\",\n",
      "    \"Answer\": \"Elephant\"\n",
      "  },\n",
      "  {\n",
      "    \"Category\": \"ANIMALS\",\n",
      "    \"Question\": \"The gavial looks very much like a crocodile except for this bodily feature\",\n",
      "    \"Answer\": \"the nose or snout\"\n",
      "  },\n",
      "  {\n",
      "    \"Category\": \"ANIMALS\",\n",
      "    \"Question\": \"Weighing around a ton, the eland is the largest species of this animal in Africa\",\n",
      "    \"Answer\": \"Antelope\"\n",
      "  },\n",
      "  {\n",
      "    \"Category\": \"ANIMALS\",\n",
      "    \"Question\": \"Heaviest of all poisonous snakes is this North American rattlesnake\",\n",
      "    \"Answer\": \"the diamondback rattler\"\n",
      "  },\n",
      "  {\n",
      "    \"Category\": \"SCIENCE\",\n",
      "    \"Question\": \"2000 news: the Gunnison sage grouse isn't just another northern sage grouse, but a new one of this classification\",\n",
      "    \"Answer\": \"species\"\n",
      "  },\n",
      "  {\n",
      "    \"Category\": \"SCIENCE\",\n",
      "    \"Question\": \"A metal that is ductile can be pulled into this while cold & under pressure\",\n",
      "    \"Answer\": \"wire\"\n",
      "  },\n",
      "  {\n",
      "    \"Category\": \"SCIENCE\",\n",
      "    \"Question\": \"In 1953 Watson & Crick built a model of the molecular structure of this, the gene-carrying substance\",\n",
      "    \"Answer\": \"DNA\"\n",
      "  },\n",
      "  {\n",
      "    \"Category\": \"SCIENCE\",\n",
      "    \"Question\": \"Changes in the tropospheric layer of this are what gives us weather\",\n",
      "    \"Answer\": \"the atmosphere\"\n",
      "  },\n",
      "  {\n",
      "    \"Category\": \"SCIENCE\",\n",
      "    \"Question\": \"In 70-degree air, a plane traveling at about 1,130 feet per second breaks it\",\n",
      "    \"Answer\": \"Sound barrier\"\n",
      "  }\n",
      "]\n"
     ]
    }
   ],
   "source": [
    "# print the rest of the data using function json_data\n",
    "\n",
    "import json\n",
    "def json_data(data, indent=2):\n",
    "    print(json.dumps(data, indent=indent))\n",
    "\n",
    "\n",
    "json_data(data)"
   ]
  },
  {
   "cell_type": "code",
   "execution_count": null,
   "metadata": {},
   "outputs": [],
   "source": []
  }
 ],
 "metadata": {
  "kernelspec": {
   "display_name": "env",
   "language": "python",
   "name": "python3"
  },
  "language_info": {
   "codemirror_mode": {
    "name": "ipython",
    "version": 3
   },
   "file_extension": ".py",
   "mimetype": "text/x-python",
   "name": "python",
   "nbconvert_exporter": "python",
   "pygments_lexer": "ipython3",
   "version": "3.11.2"
  }
 },
 "nbformat": 4,
 "nbformat_minor": 2
}
