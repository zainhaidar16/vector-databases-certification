{
 "cells": [
  {
   "cell_type": "markdown",
   "metadata": {},
   "source": [
    "# Challenge 2: Jeopardy\n",
    "\n",
    "### Vector Search Using Weaviate\n",
    "\n",
    "- Load Up Dataset, keep at least the question, answer and round properties\n",
    "- Check for number of objects stored in the database\n",
    "- Search for the objects that are close to the concepts \"Spice food recipes\" and show questions and answers\n",
    "- Find \"Spice food recipes\" related questions that were used in double Jeopardy rounds"
   ]
  },
  {
   "cell_type": "code",
   "execution_count": 21,
   "metadata": {},
   "outputs": [],
   "source": [
    "import requests\n",
    "import json\n",
    "import weaviate\n",
    "import os\n",
    "from weaviate.embedded import EmbeddedOptions\n",
    "from dotenv import load_dotenv\n"
   ]
  },
  {
   "cell_type": "code",
   "execution_count": 22,
   "metadata": {},
   "outputs": [],
   "source": [
    "# Downlaod and load the data\n",
    "resp = requests.get('https://raw.githubusercontent.com/weaviate-tutorials/intro-workshop/main/data/jeopardy_1k.json')\n",
    "data = json.loads(resp.text)"
   ]
  },
  {
   "cell_type": "code",
   "execution_count": 23,
   "metadata": {},
   "outputs": [
    {
     "name": "stdout",
     "output_type": "stream",
     "text": [
      "{\n",
      "  \"Air Date\": \"2006-11-08\",\n",
      "  \"Round\": \"Double Jeopardy!\",\n",
      "  \"Value\": 800,\n",
      "  \"Category\": \"AMERICAN HISTORY\",\n",
      "  \"Question\": \"Abraham Lincoln died across the street from this theatre on April 15, 1865\",\n",
      "  \"Answer\": \"Ford's Theatre (the Ford Theatre accepted)\"\n",
      "}\n",
      "{\n",
      "  \"Air Date\": \"2005-11-18\",\n",
      "  \"Round\": \"Jeopardy!\",\n",
      "  \"Value\": 200,\n",
      "  \"Category\": \"RHYME TIME\",\n",
      "  \"Question\": \"Any pigment on the wall so faded you can barely see it\",\n",
      "  \"Answer\": \"faint paint\"\n",
      "}\n",
      "{\n",
      "  \"Air Date\": \"1987-06-23\",\n",
      "  \"Round\": \"Double Jeopardy!\",\n",
      "  \"Value\": 600,\n",
      "  \"Category\": \"AMERICAN HISTORY\",\n",
      "  \"Question\": \"After the original 13, this was the 1st state admitted to the union\",\n",
      "  \"Answer\": \"Vermont\"\n",
      "}\n",
      "{\n",
      "  \"Air Date\": \"2011-01-13\",\n",
      "  \"Round\": \"Jeopardy!\",\n",
      "  \"Value\": 400,\n",
      "  \"Category\": \"TRANSPORTATION\",\n",
      "  \"Question\": \"In 1922 Warren Harding said that this \\\"gauges the speed of our present-day life. It long ago ran down simple living\\\"\",\n",
      "  \"Answer\": \"the automobile\"\n",
      "}\n",
      "{\n",
      "  \"Air Date\": \"2001-12-03\",\n",
      "  \"Round\": \"Double Jeopardy!\",\n",
      "  \"Value\": 800,\n",
      "  \"Category\": \"AMERICAN HISTORY\",\n",
      "  \"Question\": \"On Jan. 19, 1977 President Ford pardoned this woman who'd been convicted of treason in World War II\",\n",
      "  \"Answer\": \"Tokyo Rose\"\n",
      "}\n",
      "<class 'list'>\n",
      "1000\n"
     ]
    }
   ],
   "source": [
    "# Parse the json data and preview the first 5 items\n",
    "for i in range(5):\n",
    "    print(json.dumps(data[i], indent=2))\n",
    "\n",
    "# Type and length of the data\n",
    "print(type(data))\n",
    "print(len(data))"
   ]
  },
  {
   "cell_type": "code",
   "execution_count": 24,
   "metadata": {},
   "outputs": [],
   "source": [
    "# Load the data into Weaviate\n",
    "cohere_api_key = os.getenv(\"COHERE_APIKEY\")\n",
    "\n",
    "waeivate_api_key = os.getenv(\"WEAVIATE_API_KEY\")\n",
    "\n",
    "auth_config = weaviate.AuthApiKey(api_key=waeivate_api_key)\n",
    "\n",
    "client = weaviate.Client(\n",
    "    url=\"https://e2pxfwhqioinxijlmnqxw.c0.europe-west3.gcp.weaviate.cloud\",\n",
    "    auth_client_secret=auth_config,\n",
    "    additional_headers={\n",
    "        \"X-Cohere-Api-Key\": cohere_api_key\n",
    "        #\"X-Google-Studio-Api-Key\": ai_studio_api_key\n",
    "    }\n",
    ")"
   ]
  },
  {
   "cell_type": "code",
   "execution_count": 25,
   "metadata": {},
   "outputs": [
    {
     "name": "stdout",
     "output_type": "stream",
     "text": [
      "Weaviate is ready\n"
     ]
    }
   ],
   "source": [
    "if client.is_ready():\n",
    "    print(\"Weaviate is ready\")"
   ]
  },
  {
   "cell_type": "code",
   "execution_count": 26,
   "metadata": {},
   "outputs": [
    {
     "name": "stdout",
     "output_type": "stream",
     "text": [
      "Class Deleted Successfully\n"
     ]
    }
   ],
   "source": [
    "if client.schema.exists(\"Question\"):\n",
    "    client.schema.delete_class(\"Question\")\n",
    "    print(\"Class Deleted Successfully\")"
   ]
  },
  {
   "cell_type": "code",
   "execution_count": 27,
   "metadata": {},
   "outputs": [],
   "source": [
    "# Define the class that will bes used to add the data \n",
    "# Add properties question, answer and round\n",
    "\n",
    "class_deifinition = {\n",
    "    \"class\": \"Question\",\n",
    "    \"description\": \"Jeopardy questions\",\n",
    "    \"properties\": [\n",
    "        {\n",
    "            \"name\": \"question\",\n",
    "            \"dataType\": [\"text\"],\n",
    "            \"description\": \"The question\"\n",
    "        },\n",
    "        {\n",
    "            \"name\": \"answer\",\n",
    "            \"dataType\": [\"text\"],\n",
    "            \"description\": \"The answer\"\n",
    "        },\n",
    "        {\n",
    "            \"name\": \"round\",\n",
    "            \"dataType\": [\"text\"],\n",
    "            \"description\": \"The round\"\n",
    "        }\n",
    "    ],\n",
    "    \"vectorizer\": \"text2vec-cohere\",\n",
    "    \"vectorIndexConfig\": {\n",
    "        \"distance\": \"cosine\"\n",
    "    }\n",
    "}\n",
    "\n",
    "client.schema.create_class(class_deifinition)"
   ]
  },
  {
   "cell_type": "code",
   "execution_count": 28,
   "metadata": {},
   "outputs": [],
   "source": [
    "# Insert data into Weaviate using batch\n",
    "with client.batch.configure() as batch:\n",
    "    for i in range(len(data)):\n",
    "        batch.add_data_object(\n",
    "            data_object={\n",
    "                \"answer\": data[i][\"Answer\"],\n",
    "                \"question\": data[i][\"Question\"],\n",
    "                \"round\": data[i][\"Round\"], \n",
    "            },\n",
    "            class_name=\"Question\"\n",
    "        )\n"
   ]
  },
  {
   "cell_type": "code",
   "execution_count": 35,
   "metadata": {},
   "outputs": [
    {
     "name": "stdout",
     "output_type": "stream",
     "text": [
      "{'data': {'Aggregate': {'Question': [{'meta': {'count': 1000}}]}}}\n"
     ]
    }
   ],
   "source": [
    "# Check for the number of objects stored in the database\n",
    "objects = client.query.aggregate(\"Question\").with_meta_count().do()\n",
    "print(objects)"
   ]
  },
  {
   "cell_type": "code",
   "execution_count": 36,
   "metadata": {},
   "outputs": [
    {
     "name": "stdout",
     "output_type": "stream",
     "text": [
      "{\n",
      "  \"data\": {\n",
      "    \"Get\": {\n",
      "      \"Question\": [\n",
      "        {\n",
      "          \"_additional\": {\n",
      "            \"distance\": 0.50665164\n",
      "          },\n",
      "          \"answer\": \"tripe\",\n",
      "          \"question\": \"Popular in Pennsylvania, pepper pot is a peppery soup made from this stomach lining\"\n",
      "        },\n",
      "        {\n",
      "          \"_additional\": {\n",
      "            \"distance\": 0.55406934\n",
      "          },\n",
      "          \"answer\": \"licorice\",\n",
      "          \"question\": \"Herbs anise & fennel resemble the flavor of this common black candy\"\n",
      "        },\n",
      "        {\n",
      "          \"_additional\": {\n",
      "            \"distance\": 0.56054974\n",
      "          },\n",
      "          \"answer\": \"Hollandaise sauce\",\n",
      "          \"question\": \"Often served over asparagus, this creamy sauce was 1st made in France, not in the Netherlands\"\n",
      "        },\n",
      "        {\n",
      "          \"_additional\": {\n",
      "            \"distance\": 0.5611992\n",
      "          },\n",
      "          \"answer\": \"Chiles Rellenos\",\n",
      "          \"question\": \"The name of this Mexican dish made with chiles & cheese translates to \\\"stuffed peppers\\\"\"\n",
      "        },\n",
      "        {\n",
      "          \"_additional\": {\n",
      "            \"distance\": 0.58804923\n",
      "          },\n",
      "          \"answer\": \"Truffles\",\n",
      "          \"question\": \"Dishes flavored or garnished with these rare costly fungi are referred to as \\\"a la Perigourdine\\\"\"\n",
      "        }\n",
      "      ]\n",
      "    }\n",
      "  }\n",
      "}\n"
     ]
    }
   ],
   "source": [
    "# Search for the objects that are close to the concepts \"Spice food recipes\" and show questions and answers\n",
    "result = (\n",
    "    client.query.get(\"Question\", [\"question\", \"answer\"])\n",
    "    .with_near_text({\"concepts\":\"spice food recipes\"})\n",
    "    .with_additional([\"distance\"])\n",
    "    .with_limit(5)\n",
    "    .do()\n",
    ")\n",
    "\n",
    "print(json.dumps(result, indent=2))"
   ]
  },
  {
   "cell_type": "code",
   "execution_count": 38,
   "metadata": {},
   "outputs": [
    {
     "name": "stdout",
     "output_type": "stream",
     "text": [
      "{\n",
      "  \"data\": {\n",
      "    \"Get\": {\n",
      "      \"Question\": [\n",
      "        {\n",
      "          \"_additional\": {\n",
      "            \"distance\": 0.59583455\n",
      "          },\n",
      "          \"answer\": \"\\\"Jambalaya\\\"\",\n",
      "          \"question\": \"This Creole concoction of meat & seafood is so good Hank Williams wrote a song about it in 1952\",\n",
      "          \"round\": \"Double Jeopardy!\"\n",
      "        },\n",
      "        {\n",
      "          \"_additional\": {\n",
      "            \"distance\": 0.6079453\n",
      "          },\n",
      "          \"answer\": \"Herring\",\n",
      "          \"question\": \"The Bismarck type of this fish is made of fillets cured in vinegar, salt & onions\",\n",
      "          \"round\": \"Double Jeopardy!\"\n",
      "        },\n",
      "        {\n",
      "          \"_additional\": {\n",
      "            \"distance\": 0.620338\n",
      "          },\n",
      "          \"answer\": \"Snail\",\n",
      "          \"question\": \"The Phoenicians used a liquid from several species of this gastropod to make Tyrian purple dye\",\n",
      "          \"round\": \"Double Jeopardy!\"\n",
      "        }\n",
      "      ]\n",
      "    }\n",
      "  }\n",
      "}\n"
     ]
    }
   ],
   "source": [
    "# Find \"Spice food recipes\" related questions that were used in double Jeopardy rounds\n",
    "result = (\n",
    "    client.query.get(\"Question\", [\"question\", \"answer\", \"round\"])\n",
    "    .with_near_text({\"concepts\":\"spice food recipes\"})\n",
    "    .with_additional([\"distance\"])\n",
    "    .with_limit(3)\n",
    "    .with_where(\n",
    "        {\n",
    "            \"path\": ['round'],\n",
    "            \"operator\" : \"Equal\",\n",
    "            \"valueText\": \"Double Jeopardy!\"\n",
    "        }\n",
    "    )\n",
    "    .do()\n",
    ")\n",
    "\n",
    "print(json.dumps(result, indent=2))"
   ]
  },
  {
   "cell_type": "code",
   "execution_count": null,
   "metadata": {},
   "outputs": [],
   "source": []
  }
 ],
 "metadata": {
  "kernelspec": {
   "display_name": "env",
   "language": "python",
   "name": "python3"
  },
  "language_info": {
   "codemirror_mode": {
    "name": "ipython",
    "version": 3
   },
   "file_extension": ".py",
   "mimetype": "text/x-python",
   "name": "python",
   "nbconvert_exporter": "python",
   "pygments_lexer": "ipython3",
   "version": "3.11.2"
  }
 },
 "nbformat": 4,
 "nbformat_minor": 2
}
