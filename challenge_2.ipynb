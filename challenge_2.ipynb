{
 "cells": [
  {
   "cell_type": "markdown",
   "metadata": {},
   "source": [
    "# Challenge 2: Jeopardy\n",
    "\n",
    "### Vector Search Using Weaviate\n",
    "\n",
    "- Load Up Dataset, keep at least the question, answer and round properties\n",
    "- Check for number of objects stored in the database\n",
    "- Search for the objects that are close to the concepts \"Spice food recipes\" and show questions and answers\n",
    "- Find \"Spice food recipes\" related questions that were used in double Jeopardy rounds"
   ]
  },
  {
   "cell_type": "code",
   "execution_count": 1,
   "metadata": {},
   "outputs": [],
   "source": [
    "import requests\n",
    "import json\n",
    "import weaviate\n",
    "import os\n",
    "from weaviate.embedded import EmbeddedOptions\n",
    "from dotenv import load_dotenv\n"
   ]
  },
  {
   "cell_type": "code",
   "execution_count": 2,
   "metadata": {},
   "outputs": [],
   "source": [
    "# Downlaod and load the data\n",
    "resp = requests.get('https://raw.githubusercontent.com/weaviate-tutorials/intro-workshop/main/data/jeopardy_1k.json')\n",
    "data = json.loads(resp.text)"
   ]
  },
  {
   "cell_type": "code",
   "execution_count": 5,
   "metadata": {},
   "outputs": [
    {
     "name": "stdout",
     "output_type": "stream",
     "text": [
      "{\n",
      "  \"Air Date\": \"2006-11-08\",\n",
      "  \"Round\": \"Double Jeopardy!\",\n",
      "  \"Value\": 800,\n",
      "  \"Category\": \"AMERICAN HISTORY\",\n",
      "  \"Question\": \"Abraham Lincoln died across the street from this theatre on April 15, 1865\",\n",
      "  \"Answer\": \"Ford's Theatre (the Ford Theatre accepted)\"\n",
      "}\n",
      "{\n",
      "  \"Air Date\": \"2005-11-18\",\n",
      "  \"Round\": \"Jeopardy!\",\n",
      "  \"Value\": 200,\n",
      "  \"Category\": \"RHYME TIME\",\n",
      "  \"Question\": \"Any pigment on the wall so faded you can barely see it\",\n",
      "  \"Answer\": \"faint paint\"\n",
      "}\n",
      "{\n",
      "  \"Air Date\": \"1987-06-23\",\n",
      "  \"Round\": \"Double Jeopardy!\",\n",
      "  \"Value\": 600,\n",
      "  \"Category\": \"AMERICAN HISTORY\",\n",
      "  \"Question\": \"After the original 13, this was the 1st state admitted to the union\",\n",
      "  \"Answer\": \"Vermont\"\n",
      "}\n",
      "{\n",
      "  \"Air Date\": \"2011-01-13\",\n",
      "  \"Round\": \"Jeopardy!\",\n",
      "  \"Value\": 400,\n",
      "  \"Category\": \"TRANSPORTATION\",\n",
      "  \"Question\": \"In 1922 Warren Harding said that this \\\"gauges the speed of our present-day life. It long ago ran down simple living\\\"\",\n",
      "  \"Answer\": \"the automobile\"\n",
      "}\n",
      "{\n",
      "  \"Air Date\": \"2001-12-03\",\n",
      "  \"Round\": \"Double Jeopardy!\",\n",
      "  \"Value\": 800,\n",
      "  \"Category\": \"AMERICAN HISTORY\",\n",
      "  \"Question\": \"On Jan. 19, 1977 President Ford pardoned this woman who'd been convicted of treason in World War II\",\n",
      "  \"Answer\": \"Tokyo Rose\"\n",
      "}\n",
      "<class 'list'>\n",
      "1000\n"
     ]
    }
   ],
   "source": [
    "# Parse the json data and preview the first 5 items\n",
    "for i in range(5):\n",
    "    print(json.dumps(data[i], indent=2))\n",
    "\n",
    "# Type and length of the data\n",
    "print(type(data))\n",
    "print(len(data))"
   ]
  },
  {
   "cell_type": "code",
   "execution_count": 7,
   "metadata": {},
   "outputs": [],
   "source": [
    "# Load the data into Weaviate\n",
    "cohere_api_key = os.getenv(\"COHERE_APIKEY\")\n",
    "\n",
    "waeivate_api_key = os.getenv(\"WEAVIATE_API_KEY\")\n",
    "\n",
    "auth_config = weaviate.AuthApiKey(api_key=waeivate_api_key)\n",
    "\n",
    "client = weaviate.Client(\n",
    "    url=\"https://e2pxfwhqioinxijlmnqxw.c0.europe-west3.gcp.weaviate.cloud\",\n",
    "    auth_client_secret=auth_config,\n",
    "    additional_headers={\n",
    "        \"X-Cohere-Api-Key\": cohere_api_key\n",
    "        #\"X-Google-Studio-Api-Key\": ai_studio_api_key\n",
    "    }\n",
    ")"
   ]
  },
  {
   "cell_type": "code",
   "execution_count": null,
   "metadata": {},
   "outputs": [],
   "source": []
  }
 ],
 "metadata": {
  "kernelspec": {
   "display_name": "env",
   "language": "python",
   "name": "python3"
  },
  "language_info": {
   "codemirror_mode": {
    "name": "ipython",
    "version": 3
   },
   "file_extension": ".py",
   "mimetype": "text/x-python",
   "name": "python",
   "nbconvert_exporter": "python",
   "pygments_lexer": "ipython3",
   "version": "3.11.2"
  }
 },
 "nbformat": 4,
 "nbformat_minor": 2
}
