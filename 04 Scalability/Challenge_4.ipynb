{
 "cells": [
  {
   "cell_type": "markdown",
   "metadata": {},
   "source": [
    "# Challenge: CRUD and performance\n",
    "\n",
    "- Connect to Weaviate: Use the provided URL and API key to connect to the Weaviate instance.\n",
    "- Identify Vectors: Check how many vectors (data points) are stored in the database.\n",
    "- Perform a Search: Search for concepts you're interested in and filter results by a specific language you understand.\n",
    "- Vector Search: Perform a vector search to see if you get relevant results."
   ]
  },
  {
   "cell_type": "code",
   "execution_count": 1,
   "metadata": {},
   "outputs": [
    {
     "name": "stderr",
     "output_type": "stream",
     "text": [
      "d:\\Vector Databases\\vector-databases-certification\\env\\Lib\\site-packages\\google\\protobuf\\runtime_version.py:112: UserWarning: Protobuf gencode version 5.27.2 is older than the runtime version 5.28.0 at grpc_health/v1/health.proto. Please avoid checked-in Protobuf gencode that can be obsolete.\n",
      "  warnings.warn(\n"
     ]
    }
   ],
   "source": [
    "import requests\n",
    "import os\n",
    "import json\n",
    "import weaviate\n",
    "from weaviate.embedded import EmbeddedOptions"
   ]
  },
  {
   "cell_type": "code",
   "execution_count": 2,
   "metadata": {},
   "outputs": [
    {
     "name": "stderr",
     "output_type": "stream",
     "text": [
      "d:\\Vector Databases\\vector-databases-certification\\env\\Lib\\site-packages\\weaviate\\__init__.py:143: DeprecationWarning: Dep010: Importing AuthApiKey from weaviate is deprecated. Import AuthApiKey from its module: weaviate.auth\n",
      "  _Warnings.root_module_import(name, map_[name])\n",
      "d:\\Vector Databases\\vector-databases-certification\\env\\Lib\\site-packages\\weaviate\\warnings.py:162: DeprecationWarning: Dep016: Python client v3 `weaviate.Client(...)` connections and methods are deprecated. Update\n",
      "            your code to use Python client v4 `weaviate.WeaviateClient` connections and methods.\n",
      "\n",
      "            For Python Client v4 usage, see: https://weaviate.io/developers/weaviate/client-libraries/python\n",
      "            For code migration, see: https://weaviate.io/developers/weaviate/client-libraries/python/v3_v4_migration\n",
      "            \n",
      "  warnings.warn(\n"
     ]
    },
    {
     "name": "stdout",
     "output_type": "stream",
     "text": [
      "Client is ready\n"
     ]
    }
   ],
   "source": [
    "# Load the data into Weaviate\n",
    "cohere_api_key = os.getenv(\"COHERE_APIKEY\")\n",
    "\n",
    "waeivate_api_key = os.getenv(\"WEAVIATE_API_KEY\")\n",
    "\n",
    "auth_config = weaviate.AuthApiKey(api_key=\"76320a90-53d8-42bc-b41d-678647c6672e\")\n",
    "\n",
    "client = weaviate.Client(\n",
    "    url=\"https://cohere-demo.weaviate.network/\",\n",
    "    auth_client_secret=auth_config,\n",
    "    additional_headers={\n",
    "        \"X-Cohere-Api-Key\": cohere_api_key\n",
    "        #\"X-Google-Studio-Api-Key\": ai_studio_api_key\n",
    "    }\n",
    ")\n",
    "\n",
    "# Check if client is ready\n",
    "client.is_ready()\n",
    "print(\"Client is ready\")"
   ]
  },
  {
   "cell_type": "code",
   "execution_count": 6,
   "metadata": {},
   "outputs": [
    {
     "name": "stdout",
     "output_type": "stream",
     "text": [
      "{\n",
      "   \"data\": {\n",
      "      \"Aggregate\": {\n",
      "         \"Articles\": [\n",
      "            {\n",
      "               \"meta\": {\n",
      "                  \"count\": 9436199\n",
      "               }\n",
      "            }\n",
      "         ]\n",
      "      }\n",
      "   }\n",
      "}\n"
     ]
    }
   ],
   "source": [
    "# How many vectors are stored in this database\n",
    "response = client.query.aggregate(\"Articles\").with_meta_count().do()\n",
    "print(json.dumps(response, indent=3))"
   ]
  },
  {
   "cell_type": "code",
   "execution_count": 14,
   "metadata": {},
   "outputs": [
    {
     "name": "stdout",
     "output_type": "stream",
     "text": [
      "{\n",
      "   \"data\": {\n",
      "      \"Get\": {\n",
      "         \"Articles\": [\n",
      "            {\n",
      "               \"lang\": \"en\",\n",
      "               \"text\": \"Climate change threatens people with food and water scarcity, increased flooding, extreme heat, more disease, and economic loss. Human migration and conflict can also be a result. The World Health Organization (WHO) calls climate change the greatest threat to global health in the 21st century. Communities may adapt to climate change through efforts like coastline protection or expanding access to air conditioning, but some impacts are unavoidable. Poorer countries are responsible for a small share of global emissions, yet they have the least ability to adapt and are most vulnerable to climate change.\",\n",
      "               \"title\": \"Climate change\",\n",
      "               \"url\": \"https://en.wikipedia.org/wiki?curid=5042951\",\n",
      "               \"views\": 3000\n",
      "            },\n",
      "            {\n",
      "               \"lang\": \"de\",\n",
      "               \"text\": \"Klimawandel, auch Klimaver\\u00e4nderung, Klima\\u00e4nderung oder \\\"Klimawechsel,\\\" ist eine weltweit auftretende Ver\\u00e4nderung des Klimas auf der Erde oder erd\\u00e4hnlichen Planeten oder Monden, die eine Atmosph\\u00e4re besitzen. Die mit einem Klimawandel verbundene Abk\\u00fchlung oder Erw\\u00e4rmung kann \\u00fcber unterschiedlich lange Zeitr\\u00e4ume erfolgen. Ein wichtiges Unterscheidungsmerkmal besteht dabei zwischen jenen Witterungsverl\\u00e4ufen, die im Rahmen eines Klimazustands beziehungsweise einer Klimazone erfolgen, und dem Klimawandel selbst, der die Wahrscheinlichkeit f\\u00fcr das Auftreten bestimmter Wetterlagen erh\\u00f6ht oder vermindert.\",\n",
      "               \"title\": \"Klimawandel\",\n",
      "               \"url\": \"https://de.wikipedia.org/wiki?curid=3427885\",\n",
      "               \"views\": 1000\n",
      "            }\n",
      "         ]\n",
      "      }\n",
      "   }\n",
      "}\n",
      "{\n",
      "   \"data\": {\n",
      "      \"Get\": {\n",
      "         \"Articles\": [\n",
      "            {\n",
      "               \"lang\": \"en\",\n",
      "               \"text\": \"Across the street from the civic center of Malibu, Surfrider Beach is adjacent to the Malibu Colony and Malibu Pier. This surfing beach was featured in 1960s surf movies, like \\\"Beach Party\\\". The Surfrider point break stems from the Malibu Colony into Santa Monica Bay and carries the nickname \\\"Third Point\\\". Surfing at this spot is popular during the winter.\",\n",
      "               \"title\": \"Malibu, California\",\n",
      "               \"url\": \"https://en.wikipedia.org/wiki?curid=107655\",\n",
      "               \"views\": 2000\n",
      "            },\n",
      "            {\n",
      "               \"lang\": \"en\",\n",
      "               \"text\": \"Like all California beaches, Malibu beaches are technically public land below the mean high tide line. Many large public beaches (Zuma Beach, Surfrider Beach) are easily accessible, but such access is sometimes limited for some of the smaller and more remote beaches. Some Malibu beaches are private, such as Paradise Cove, which charges an entrance fee to keep the crowds at bay.\",\n",
      "               \"title\": \"Malibu, California\",\n",
      "               \"url\": \"https://en.wikipedia.org/wiki?curid=107655\",\n",
      "               \"views\": 2000\n",
      "            }\n",
      "         ]\n",
      "      }\n",
      "   }\n",
      "}\n",
      "{\n",
      "   \"data\": {\n",
      "      \"Get\": {\n",
      "         \"Articles\": [\n",
      "            {\n",
      "               \"lang\": \"de\",\n",
      "               \"text\": \"The Beach (dt. \\\"Der Strand)\\\" ist ein Film von Danny Boyle aus dem Jahr 2000. Der Film beruht auf dem Roman \\\"Der Strand\\\" (Originaltitel: \\\"The Beach\\\") des Engl\\u00e4nders Alex Garland \\u00fcber eine abenteuerliche Rucksackreise in Thailand. Das Buch erschien 1996.\",\n",
      "               \"title\": \"The Beach\",\n",
      "               \"url\": \"https://de.wikipedia.org/wiki?curid=64467\",\n",
      "               \"views\": 900\n",
      "            },\n",
      "            {\n",
      "               \"lang\": \"en\",\n",
      "               \"text\": \"Richard, a young American seeking adventure in Bangkok, stays in a drab travelers' hotel on Khao San Road where he meets a young French couple, Fran\\u00e7oise and \\u00c9tienne. He meets Daffy, who tells him of a pristine, uninhabited island in the Gulf of Thailand with a beautiful hidden beach. Daffy explains that he settled there in secret several years earlier, but difficulties arose and he left. Daffy commits suicide, leaving Richard a map to the island. Richard convinces Fran\\u00e7oise and \\u00c9tienne to accompany him to the island, and the three travel to Ko Samui. Richard meets two American surfers who have heard rumors of the island and gives them a copy of the map.\",\n",
      "               \"title\": \"The Beach (film)\",\n",
      "               \"url\": \"https://en.wikipedia.org/wiki?curid=4802267\",\n",
      "               \"views\": 2000\n",
      "            }\n",
      "         ]\n",
      "      }\n",
      "   }\n",
      "}\n"
     ]
    }
   ],
   "source": [
    "# Search different types of concepts in the database\n",
    "\n",
    "concepts = [\"climate change\", \"vacations spot in california\", \"beach\"]\n",
    "\n",
    "results = []\n",
    "for concept in concepts:\n",
    "    query = client.query.get(\"Articles\", [\"title\", \"text\", \"url\", \"views\", \"lang\"]).with_near_text({\"concepts\": concept}).with_limit(2).do()\n",
    "    print(json.dumps(query, indent=3))"
   ]
  },
  {
   "cell_type": "code",
   "execution_count": 15,
   "metadata": {},
   "outputs": [
    {
     "name": "stdout",
     "output_type": "stream",
     "text": [
      "{\n",
      "   \"data\": {\n",
      "      \"Get\": {\n",
      "         \"Articles\": [\n",
      "            {\n",
      "               \"lang\": \"en\",\n",
      "               \"text\": \"Climate change threatens people with food and water scarcity, increased flooding, extreme heat, more disease, and economic loss. Human migration and conflict can also be a result. The World Health Organization (WHO) calls climate change the greatest threat to global health in the 21st century. Communities may adapt to climate change through efforts like coastline protection or expanding access to air conditioning, but some impacts are unavoidable. Poorer countries are responsible for a small share of global emissions, yet they have the least ability to adapt and are most vulnerable to climate change.\",\n",
      "               \"title\": \"Climate change\",\n",
      "               \"url\": \"https://en.wikipedia.org/wiki?curid=5042951\",\n",
      "               \"views\": 3000\n",
      "            },\n",
      "            {\n",
      "               \"lang\": \"en\",\n",
      "               \"text\": \"Human activity since the Industrial Revolution, mainly extracting and burning fossil fuels (coal, oil, and natural gas), has increased the amount of greenhouse gases in the atmosphere, resulting in a radiative imbalance. In 2019, the concentrations of and methane had increased by about 48% and 160%, respectively, since 1750. These levels are higher than they have been at any time during the last 2 million years. Concentrations of methane are far higher than they were over the last 800,000 years.\",\n",
      "               \"title\": \"Climate change\",\n",
      "               \"url\": \"https://en.wikipedia.org/wiki?curid=5042951\",\n",
      "               \"views\": 3000\n",
      "            }\n",
      "         ]\n",
      "      }\n",
      "   }\n",
      "}\n",
      "{\n",
      "   \"data\": {\n",
      "      \"Get\": {\n",
      "         \"Articles\": [\n",
      "            {\n",
      "               \"lang\": \"en\",\n",
      "               \"text\": \"Across the street from the civic center of Malibu, Surfrider Beach is adjacent to the Malibu Colony and Malibu Pier. This surfing beach was featured in 1960s surf movies, like \\\"Beach Party\\\". The Surfrider point break stems from the Malibu Colony into Santa Monica Bay and carries the nickname \\\"Third Point\\\". Surfing at this spot is popular during the winter.\",\n",
      "               \"title\": \"Malibu, California\",\n",
      "               \"url\": \"https://en.wikipedia.org/wiki?curid=107655\",\n",
      "               \"views\": 2000\n",
      "            },\n",
      "            {\n",
      "               \"lang\": \"en\",\n",
      "               \"text\": \"Like all California beaches, Malibu beaches are technically public land below the mean high tide line. Many large public beaches (Zuma Beach, Surfrider Beach) are easily accessible, but such access is sometimes limited for some of the smaller and more remote beaches. Some Malibu beaches are private, such as Paradise Cove, which charges an entrance fee to keep the crowds at bay.\",\n",
      "               \"title\": \"Malibu, California\",\n",
      "               \"url\": \"https://en.wikipedia.org/wiki?curid=107655\",\n",
      "               \"views\": 2000\n",
      "            }\n",
      "         ]\n",
      "      }\n",
      "   }\n",
      "}\n",
      "{\n",
      "   \"data\": {\n",
      "      \"Get\": {\n",
      "         \"Articles\": [\n",
      "            {\n",
      "               \"lang\": \"en\",\n",
      "               \"text\": \"Richard, a young American seeking adventure in Bangkok, stays in a drab travelers' hotel on Khao San Road where he meets a young French couple, Fran\\u00e7oise and \\u00c9tienne. He meets Daffy, who tells him of a pristine, uninhabited island in the Gulf of Thailand with a beautiful hidden beach. Daffy explains that he settled there in secret several years earlier, but difficulties arose and he left. Daffy commits suicide, leaving Richard a map to the island. Richard convinces Fran\\u00e7oise and \\u00c9tienne to accompany him to the island, and the three travel to Ko Samui. Richard meets two American surfers who have heard rumors of the island and gives them a copy of the map.\",\n",
      "               \"title\": \"The Beach (film)\",\n",
      "               \"url\": \"https://en.wikipedia.org/wiki?curid=4802267\",\n",
      "               \"views\": 2000\n",
      "            },\n",
      "            {\n",
      "               \"lang\": \"en\",\n",
      "               \"text\": \"The Beach is a 2000 adventure drama film directed by Danny Boyle, from a screenplay by John Hodge, based on the 1996 novel of the same name by Alex Garland. The film stars Leonardo DiCaprio, Tilda Swinton, Virginie Ledoyen, Guillaume Canet, and Robert Carlyle. It was filmed on the Thai island of Ko Phi Phi Le.\",\n",
      "               \"title\": \"The Beach (film)\",\n",
      "               \"url\": \"https://en.wikipedia.org/wiki?curid=4802267\",\n",
      "               \"views\": 2000\n",
      "            }\n",
      "         ]\n",
      "      }\n",
      "   }\n",
      "}\n"
     ]
    }
   ],
   "source": [
    "# Vector search with specific confition like lan = en\n",
    "where = {\n",
    "    \"path\": [\"lang\"],\n",
    "    \"operator\": \"Equal\",\n",
    "    \"valueString\": \"en\"\n",
    "}\n",
    "\n",
    "# Search different types of concepts in the database\n",
    "\n",
    "concepts = [\"climate change\", \"vacations spot in california\", \"beach\"]\n",
    "\n",
    "results = []\n",
    "for concept in concepts:\n",
    "    query = (\n",
    "        client.query\n",
    "        .get(\"Articles\", [\"title\", \"text\", \"url\", \"views\", \"lang\"])\n",
    "        .with_near_text({\"concepts\": concept})\n",
    "        .with_where(where)\n",
    "        .with_limit(2)\n",
    "        .do()\n",
    "             )\n",
    "    print(json.dumps(query, indent=3))"
   ]
  },
  {
   "cell_type": "code",
   "execution_count": null,
   "metadata": {},
   "outputs": [],
   "source": []
  }
 ],
 "metadata": {
  "kernelspec": {
   "display_name": "env",
   "language": "python",
   "name": "python3"
  },
  "language_info": {
   "codemirror_mode": {
    "name": "ipython",
    "version": 3
   },
   "file_extension": ".py",
   "mimetype": "text/x-python",
   "name": "python",
   "nbconvert_exporter": "python",
   "pygments_lexer": "ipython3",
   "version": "3.11.2"
  }
 },
 "nbformat": 4,
 "nbformat_minor": 2
}
