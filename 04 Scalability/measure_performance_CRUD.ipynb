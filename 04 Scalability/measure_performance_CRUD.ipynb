{
 "cells": [
  {
   "cell_type": "markdown",
   "metadata": {},
   "source": [
    "## Scalability of Vector Databases:\n",
    "\n",
    "- Purpose: Vector databases are designed to handle and search through vast amounts of data efficiently. If you have tens of millions or even billions of data objects, traditional databases might slow down, but vector databases are optimized for this scale.\n",
    "- How It Works: They use mathematical operations on vectors to retrieve relevant objects in real-time. This is particularly useful for tasks like vector search or semantic search.\n",
    "\n",
    "## Approximate Nearest Neighbors (ANN):\n",
    "\n",
    "- Concept: Instead of comparing a query vector to every stored vector one by one, ANN algorithms find vectors that are in the nearest neighborhood of the query vector. This speeds up the search process.\n",
    "- Trade-off: The trade-off with ANN is that it might not always find the exact nearest neighbors, but it significantly boosts performance.\n",
    "\n",
    "## Hierarchical Navigable Small Worlds (HNSW):\n",
    "\n",
    "- Algorithm: HNSW is a popular ANN algorithm used in vector databases. It builds a graph of vectors with a hierarchy of points.\n",
    "- Upper Levels: Start at the top with points that are far apart.\n",
    "- Lower Levels: Move to lower levels with points that are closer together.\n",
    "- Search: Begin the search at the top, moving across distant points to find the closest one to the query. Then drop down a level and repeat until the closest neighbors are found at the lowest level.\n",
    "\n",
    "- Efficiency: This method allows the database to scale to billions of objects while still performing real-time searches.\n",
    "\n",
    "\n",
    "## Why Use Vector Databases?\n",
    "- Speed: They can handle large-scale data and perform searches quickly.\n",
    "- Optimization: They are optimized for mathematical operations on vectors, making them suitable for applications like image and text search."
   ]
  },
  {
   "cell_type": "markdown",
   "metadata": {},
   "source": [
    "## Ways to measure performance of a vector DB\n",
    "\"Ways to measure performance of a vector DB,\" three key metrics are discussed to evaluate how well a vector database performs:\n",
    "\n",
    "1 - Recall:\n",
    "\n",
    "- What It Is: Recall measures how accurately the database finds similar items to your query.\n",
    "- Analogy: Imagine you're looking for all your friends at a crowded party. Recall is like counting how many of your friends you actually find compared to how many are really there. The higher the recall, the more friends you find.\n",
    "\n",
    "2 - Queries Per Second (QPS):\n",
    "\n",
    "- What It Is: QPS measures how fast the database can handle search requests.\n",
    "- Analogy: Think of QPS like the speed of a cashier at a busy store. The more customers (queries) the cashier can help per second, the faster the service. Higher QPS means the database can handle more searches quickly.\n",
    "\n",
    "3 - Memory Usage:\n",
    "\n",
    "- What It Is: This metric shows how much computer memory (RAM) the database uses to perform searches.\n",
    "- Analogy: Imagine your computer's memory as a bookshelf. The more memory the database uses, the more space it takes up on the shelf. Using less memory is better because it leaves more room for other tasks.\n",
    "\n",
    "\n",
    "## Trade-offs\n",
    "- Speed vs. Accuracy: Often, there's a trade-off between recall and QPS. If you want faster searches (higher QPS), you might miss some similar items (lower recall).\n",
    "- Memory Efficiency: Some databases use special techniques to use less memory while still performing well."
   ]
  },
  {
   "cell_type": "markdown",
   "metadata": {},
   "source": [
    "# CRUD Operations"
   ]
  },
  {
   "cell_type": "code",
   "execution_count": 10,
   "metadata": {},
   "outputs": [],
   "source": [
    "import requests\n",
    "import os\n",
    "import json\n",
    "import weaviate\n",
    "from weaviate.embedded import EmbeddedOptions"
   ]
  },
  {
   "cell_type": "code",
   "execution_count": 11,
   "metadata": {},
   "outputs": [
    {
     "name": "stdout",
     "output_type": "stream",
     "text": [
      "<class 'list'>\n",
      "10\n",
      "{\n",
      "  \"Category\": \"SCIENCE\",\n",
      "  \"Question\": \"This organ removes excess glucose from the blood & stores it as glycogen\",\n",
      "  \"Answer\": \"Liver\"\n",
      "}\n"
     ]
    }
   ],
   "source": [
    "# Downlaod the data https://raw.githubusercontent.com/weaviate-tutorials/quickstart/main/data/jeopardy_tiny.json\n",
    "\n",
    "response = requests.get('https://raw.githubusercontent.com/weaviate-tutorials/quickstart/main/data/jeopardy_tiny.json')\n",
    "data = json.loads(response.text)\n",
    "\n",
    "# Parse the json and preview the data using json_prin function\n",
    "def json_print(data):\n",
    "    print(json.dumps(data, indent=2))\n",
    "\n",
    "print(type(data))\n",
    "print(len(data))\n",
    "print(json.dumps(data[0], indent=2))\n"
   ]
  },
  {
   "cell_type": "code",
   "execution_count": 12,
   "metadata": {},
   "outputs": [],
   "source": [
    "# Load the data into Weaviate\n",
    "cohere_api_key = os.getenv(\"COHERE_APIKEY\")\n",
    "\n",
    "waeivate_api_key = os.getenv(\"WEAVIATE_API_KEY\")\n",
    "\n",
    "auth_config = weaviate.AuthApiKey(api_key=waeivate_api_key)\n",
    "\n",
    "client = weaviate.Client(\n",
    "    url=\"https://e2pxfwhqioinxijlmnqxw.c0.europe-west3.gcp.weaviate.cloud\",\n",
    "    auth_client_secret=auth_config,\n",
    "    additional_headers={\n",
    "        \"X-Cohere-Api-Key\": cohere_api_key\n",
    "        #\"X-Google-Studio-Api-Key\": ai_studio_api_key\n",
    "    }\n",
    ")"
   ]
  },
  {
   "cell_type": "code",
   "execution_count": 17,
   "metadata": {},
   "outputs": [
    {
     "name": "stdout",
     "output_type": "stream",
     "text": [
      "Class Deleted Successfully\n"
     ]
    }
   ],
   "source": [
    "# Check and delete already existed class\n",
    "if client.schema.exists(\"Question\"):\n",
    "    client.schema.delete_class(\"Question\")\n",
    "print(\"Class Deleted Successfully\")"
   ]
  },
  {
   "cell_type": "code",
   "execution_count": 18,
   "metadata": {},
   "outputs": [
    {
     "name": "stdout",
     "output_type": "stream",
     "text": [
      "Class created\n"
     ]
    }
   ],
   "source": [
    "# Create class object\n",
    "class_obj = {\n",
    "    \"class\": \"Question\",\n",
    "    \"vectorizer\": \"text2vec-cohere\",\n",
    "}\n",
    "\n",
    "client.schema.create_class(class_obj)\n",
    "print(\"Class created\")"
   ]
  },
  {
   "cell_type": "code",
   "execution_count": 22,
   "metadata": {},
   "outputs": [
    {
     "name": "stdout",
     "output_type": "stream",
     "text": [
      "Data object created with UUID: 798c6b47-4d7c-4471-a9c4-533140ed176c\n",
      "Data object created with UUID: 437ec891-34f8-4327-b7f7-477ac49b7519\n",
      "Data object created with UUID: a9a56964-1d84-474c-ad80-1e4f99775455\n",
      "Data object created with UUID: 545b6f97-54ae-4f85-9b79-fe0e5ad116aa\n",
      "Data object created with UUID: 3d581d45-ac55-42eb-a28e-36080f83c758\n"
     ]
    }
   ],
   "source": [
    "# Create multiple objects by specifying question, answer, and category properties\n",
    "objects = [\n",
    "    {\n",
    "        \"question\": \"What is the capital of France?\",\n",
    "        \"answer\": \"Paris\",\n",
    "        \"category\": \"Geography\"\n",
    "    },\n",
    "    {\n",
    "        \"question\": \"Who is the current Prime Minister of France?\",\n",
    "        \"answer\": \"Emmanuel Macron\",\n",
    "        \"category\": \"Politics\"\n",
    "    },\n",
    "    {\n",
    "        \"question\": \"What is the name of the largest city in France?\",\n",
    "        \"answer\": \"London\",\n",
    "        \"category\": \"Geography\"\n",
    "    },\n",
    "    {\n",
    "        \"question\": \"Who is the current Prime Minister of Spain?\",\n",
    "        \"answer\": \"Manuel Pujol\",\n",
    "        \"category\": \"Politics\"\n",
    "    },\n",
    "    {\n",
    "        \"question\": \"What is the name of the largest city in Spain?\",\n",
    "        \"answer\": \"Madrid\",\n",
    "        \"category\": \"Geography\"\n",
    "    },\n",
    "    # Add more objects here\n",
    "]\n",
    "\n",
    "# Create each object separately\n",
    "for obj in objects:\n",
    "    uuid = client.data_object.create(obj, class_name=\"Question\")\n",
    "    print(\"Data object created with UUID:\", uuid)"
   ]
  },
  {
   "cell_type": "code",
   "execution_count": null,
   "metadata": {},
   "outputs": [],
   "source": []
  }
 ],
 "metadata": {
  "kernelspec": {
   "display_name": "env",
   "language": "python",
   "name": "python3"
  },
  "language_info": {
   "codemirror_mode": {
    "name": "ipython",
    "version": 3
   },
   "file_extension": ".py",
   "mimetype": "text/x-python",
   "name": "python",
   "nbconvert_exporter": "python",
   "pygments_lexer": "ipython3",
   "version": "3.11.2"
  }
 },
 "nbformat": 4,
 "nbformat_minor": 2
}
