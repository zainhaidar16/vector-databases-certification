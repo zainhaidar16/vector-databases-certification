{
 "cells": [
  {
   "cell_type": "markdown",
   "metadata": {},
   "source": [
    "## Scalability of Vector Databases:\n",
    "\n",
    "- Purpose: Vector databases are designed to handle and search through vast amounts of data efficiently. If you have tens of millions or even billions of data objects, traditional databases might slow down, but vector databases are optimized for this scale.\n",
    "- How It Works: They use mathematical operations on vectors to retrieve relevant objects in real-time. This is particularly useful for tasks like vector search or semantic search.\n",
    "\n",
    "## Approximate Nearest Neighbors (ANN):\n",
    "\n",
    "- Concept: Instead of comparing a query vector to every stored vector one by one, ANN algorithms find vectors that are in the nearest neighborhood of the query vector. This speeds up the search process.\n",
    "- Trade-off: The trade-off with ANN is that it might not always find the exact nearest neighbors, but it significantly boosts performance.\n",
    "\n",
    "## Hierarchical Navigable Small Worlds (HNSW):\n",
    "\n",
    "- Algorithm: HNSW is a popular ANN algorithm used in vector databases. It builds a graph of vectors with a hierarchy of points.\n",
    "- Upper Levels: Start at the top with points that are far apart.\n",
    "- Lower Levels: Move to lower levels with points that are closer together.\n",
    "- Search: Begin the search at the top, moving across distant points to find the closest one to the query. Then drop down a level and repeat until the closest neighbors are found at the lowest level.\n",
    "\n",
    "- Efficiency: This method allows the database to scale to billions of objects while still performing real-time searches.\n",
    "\n",
    "\n",
    "## Why Use Vector Databases?\n",
    "- Speed: They can handle large-scale data and perform searches quickly.\n",
    "- Optimization: They are optimized for mathematical operations on vectors, making them suitable for applications like image and text search."
   ]
  }
 ],
 "metadata": {
  "kernelspec": {
   "display_name": "env",
   "language": "python",
   "name": "python3"
  },
  "language_info": {
   "name": "python",
   "version": "3.11.2"
  }
 },
 "nbformat": 4,
 "nbformat_minor": 2
}
