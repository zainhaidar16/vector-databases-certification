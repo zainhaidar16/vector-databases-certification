{
 "cells": [
  {
   "cell_type": "markdown",
   "metadata": {},
   "source": [
    "## Load the data"
   ]
  },
  {
   "cell_type": "code",
   "execution_count": 1,
   "metadata": {},
   "outputs": [
    {
     "name": "stderr",
     "output_type": "stream",
     "text": [
      "d:\\Vector Databases\\vector-databases-certification\\env\\Lib\\site-packages\\google\\protobuf\\runtime_version.py:112: UserWarning: Protobuf gencode version 5.27.2 is older than the runtime version 5.28.0 at grpc_health/v1/health.proto. Please avoid checked-in Protobuf gencode that can be obsolete.\n",
      "  warnings.warn(\n"
     ]
    }
   ],
   "source": [
    "import requests\n",
    "import json\n",
    "import weaviate\n",
    "import os\n",
    "from weaviate.embedded import EmbeddedOptions\n",
    "from dotenv import load_dotenv"
   ]
  },
  {
   "cell_type": "code",
   "execution_count": 2,
   "metadata": {},
   "outputs": [
    {
     "name": "stdout",
     "output_type": "stream",
     "text": [
      "<class 'list'>\n",
      "10\n",
      "{'Category': 'SCIENCE', 'Question': 'This organ removes excess glucose from the blood & stores it as glycogen', 'Answer': 'Liver'}\n"
     ]
    }
   ],
   "source": [
    "# download the data\n",
    "\n",
    "url = \"https://raw.githubusercontent.com/weaviate-tutorials/quickstart/main/data/jeopardy_tiny.json\"\n",
    "response = requests.get(url)\n",
    "data = json.loads(response.text)\n",
    "\n",
    "# Preview the data type and length\n",
    "print(type(data))\n",
    "print(len(data))\n",
    "\n",
    "# Preview the first entry\n",
    "print(data[0])\n"
   ]
  },
  {
   "cell_type": "code",
   "execution_count": 3,
   "metadata": {},
   "outputs": [
    {
     "name": "stdout",
     "output_type": "stream",
     "text": [
      "[\n",
      "  {\n",
      "    \"Category\": \"SCIENCE\",\n",
      "    \"Question\": \"This organ removes excess glucose from the blood & stores it as glycogen\",\n",
      "    \"Answer\": \"Liver\"\n",
      "  },\n",
      "  {\n",
      "    \"Category\": \"ANIMALS\",\n",
      "    \"Question\": \"It's the only living mammal in the order Proboseidea\",\n",
      "    \"Answer\": \"Elephant\"\n",
      "  },\n",
      "  {\n",
      "    \"Category\": \"ANIMALS\",\n",
      "    \"Question\": \"The gavial looks very much like a crocodile except for this bodily feature\",\n",
      "    \"Answer\": \"the nose or snout\"\n",
      "  },\n",
      "  {\n",
      "    \"Category\": \"ANIMALS\",\n",
      "    \"Question\": \"Weighing around a ton, the eland is the largest species of this animal in Africa\",\n",
      "    \"Answer\": \"Antelope\"\n",
      "  },\n",
      "  {\n",
      "    \"Category\": \"ANIMALS\",\n",
      "    \"Question\": \"Heaviest of all poisonous snakes is this North American rattlesnake\",\n",
      "    \"Answer\": \"the diamondback rattler\"\n",
      "  },\n",
      "  {\n",
      "    \"Category\": \"SCIENCE\",\n",
      "    \"Question\": \"2000 news: the Gunnison sage grouse isn't just another northern sage grouse, but a new one of this classification\",\n",
      "    \"Answer\": \"species\"\n",
      "  },\n",
      "  {\n",
      "    \"Category\": \"SCIENCE\",\n",
      "    \"Question\": \"A metal that is ductile can be pulled into this while cold & under pressure\",\n",
      "    \"Answer\": \"wire\"\n",
      "  },\n",
      "  {\n",
      "    \"Category\": \"SCIENCE\",\n",
      "    \"Question\": \"In 1953 Watson & Crick built a model of the molecular structure of this, the gene-carrying substance\",\n",
      "    \"Answer\": \"DNA\"\n",
      "  },\n",
      "  {\n",
      "    \"Category\": \"SCIENCE\",\n",
      "    \"Question\": \"Changes in the tropospheric layer of this are what gives us weather\",\n",
      "    \"Answer\": \"the atmosphere\"\n",
      "  },\n",
      "  {\n",
      "    \"Category\": \"SCIENCE\",\n",
      "    \"Question\": \"In 70-degree air, a plane traveling at about 1,130 feet per second breaks it\",\n",
      "    \"Answer\": \"Sound barrier\"\n",
      "  }\n",
      "]\n"
     ]
    }
   ],
   "source": [
    "# print the rest of the data using function json_data\n",
    "\n",
    "import json\n",
    "def json_data(data, indent=2):\n",
    "    print(json.dumps(data, indent=indent))\n",
    "\n",
    "\n",
    "json_data(data)"
   ]
  },
  {
   "cell_type": "markdown",
   "metadata": {},
   "source": [
    "## Initialize Weaviate"
   ]
  },
  {
   "cell_type": "code",
   "execution_count": 11,
   "metadata": {},
   "outputs": [],
   "source": [
    "load_dotenv()\n",
    "\n",
    "openai_api_key = os.getenv(\"OPENAI_API_KEY\")\n",
    "\n",
    "vertex_api_key = os.getenv(\"GOOGLE_APIKEY\")\n",
    "\n",
    "waeivate_api_key = os.getenv(\"WEAVIATE_API_KEY\")\n",
    "\n",
    "huggingfacehub_api_token = os.getenv(\"HUGGINGFACE-API-KEY\")\n",
    "\n",
    "auth_config = weaviate.AuthApiKey(api_key=waeivate_api_key)\n",
    "\n",
    "client = weaviate.Client(\n",
    "    url=\"https://e2pxfwhqioinxijlmnqxw.c0.europe-west3.gcp.weaviate.cloud\",\n",
    "    auth_client_secret=auth_config,\n",
    "    additional_headers={\n",
    "        \"X-Cohere-Api-Key\": \"COHERE_APIKEY\"\n",
    "    }\n",
    ")"
   ]
  },
  {
   "cell_type": "code",
   "execution_count": 12,
   "metadata": {},
   "outputs": [
    {
     "name": "stdout",
     "output_type": "stream",
     "text": [
      "{\n",
      "  \"hostname\": \"http://[::]:8080\",\n",
      "  \"modules\": {\n",
      "    \"backup-gcs\": {\n",
      "      \"bucketName\": \"weaviate-wcs-prod-cust-europe-west3-workloads-backups\",\n",
      "      \"rootName\": \"7b6a577d-61ff-4083-a29d-78a394c9d05f\"\n",
      "    },\n",
      "    \"generative-anyscale\": {\n",
      "      \"documentationHref\": \"https://docs.anyscale.com/endpoints/overview\",\n",
      "      \"name\": \"Generative Search - Anyscale\"\n",
      "    },\n",
      "    \"generative-aws\": {\n",
      "      \"documentationHref\": \"https://docs.aws.amazon.com/bedrock/latest/APIReference/welcome.html\",\n",
      "      \"name\": \"Generative Search - AWS\"\n",
      "    },\n",
      "    \"generative-cohere\": {\n",
      "      \"documentationHref\": \"https://docs.cohere.com/reference/chat\",\n",
      "      \"name\": \"Generative Search - Cohere\"\n",
      "    },\n",
      "    \"generative-mistral\": {\n",
      "      \"documentationHref\": \"https://docs.mistral.ai/api/\",\n",
      "      \"name\": \"Generative Search - Mistral\"\n",
      "    },\n",
      "    \"generative-octoai\": {\n",
      "      \"documentationHref\": \"https://octo.ai/docs/text-gen-solution/getting-started\",\n",
      "      \"name\": \"Generative Search - OctoAI\"\n",
      "    },\n",
      "    \"generative-ollama\": {\n",
      "      \"documentationHref\": \"https://github.com/ollama/ollama/blob/main/docs/api.md#generate-a-completion\",\n",
      "      \"name\": \"Generative Search - Ollama\"\n",
      "    },\n",
      "    \"generative-openai\": {\n",
      "      \"documentationHref\": \"https://platform.openai.com/docs/api-reference/completions\",\n",
      "      \"name\": \"Generative Search - OpenAI\"\n",
      "    },\n",
      "    \"generative-palm\": {\n",
      "      \"documentationHref\": \"https://cloud.google.com/vertex-ai/docs/generative-ai/chat/test-chat-prompts\",\n",
      "      \"name\": \"Generative Search - Google PaLM\"\n",
      "    },\n",
      "    \"multi2vec-palm\": {\n",
      "      \"documentationHref\": \"https://cloud.google.com/vertex-ai/generative-ai/docs/embeddings/get-multimodal-embeddings\",\n",
      "      \"name\": \"Google PaLM Multimodal Module\"\n",
      "    },\n",
      "    \"qna-openai\": {\n",
      "      \"documentationHref\": \"https://platform.openai.com/docs/api-reference/completions\",\n",
      "      \"name\": \"OpenAI Question & Answering Module\"\n",
      "    },\n",
      "    \"ref2vec-centroid\": {},\n",
      "    \"reranker-cohere\": {\n",
      "      \"documentationHref\": \"https://txt.cohere.com/rerank/\",\n",
      "      \"name\": \"Reranker - Cohere\"\n",
      "    },\n",
      "    \"reranker-voyageai\": {\n",
      "      \"documentationHref\": \"https://docs.voyageai.com/reference/reranker-api\",\n",
      "      \"name\": \"Reranker - VoyageAI\"\n",
      "    },\n",
      "    \"text2vec-aws\": {\n",
      "      \"documentationHref\": \"https://docs.aws.amazon.com/bedrock/latest/userguide/titan-embedding-models.html\",\n",
      "      \"name\": \"AWS Module\"\n",
      "    },\n",
      "    \"text2vec-cohere\": {\n",
      "      \"documentationHref\": \"https://docs.cohere.ai/embedding-wiki/\",\n",
      "      \"name\": \"Cohere Module\"\n",
      "    },\n",
      "    \"text2vec-huggingface\": {\n",
      "      \"documentationHref\": \"https://huggingface.co/docs/api-inference/detailed_parameters#feature-extraction-task\",\n",
      "      \"name\": \"Hugging Face Module\"\n",
      "    },\n",
      "    \"text2vec-jinaai\": {\n",
      "      \"documentationHref\": \"https://jina.ai/embeddings/\",\n",
      "      \"name\": \"JinaAI Module\"\n",
      "    },\n",
      "    \"text2vec-octoai\": {\n",
      "      \"documentationHref\": \"https://octo.ai/docs/text-gen-solution/getting-started\",\n",
      "      \"name\": \"OctoAI Module\"\n",
      "    },\n",
      "    \"text2vec-ollama\": {\n",
      "      \"documentationHref\": \"https://github.com/ollama/ollama/blob/main/docs/api.md#generate-embeddings\",\n",
      "      \"name\": \"Ollama Module\"\n",
      "    },\n",
      "    \"text2vec-openai\": {\n",
      "      \"documentationHref\": \"https://platform.openai.com/docs/guides/embeddings/what-are-embeddings\",\n",
      "      \"name\": \"OpenAI Module\"\n",
      "    },\n",
      "    \"text2vec-palm\": {\n",
      "      \"documentationHref\": \"https://cloud.google.com/vertex-ai/docs/generative-ai/embeddings/get-text-embeddings\",\n",
      "      \"name\": \"Google PaLM Module\"\n",
      "    },\n",
      "    \"text2vec-voyageai\": {\n",
      "      \"documentationHref\": \"https://docs.voyageai.com/docs/embeddings\",\n",
      "      \"name\": \"VoyageAI Module\"\n",
      "    }\n",
      "  },\n",
      "  \"version\": \"1.25.10\"\n",
      "}\n"
     ]
    }
   ],
   "source": [
    "# Check weaviate is running\n",
    "json_data(client.get_meta())"
   ]
  },
  {
   "cell_type": "code",
   "execution_count": 13,
   "metadata": {},
   "outputs": [],
   "source": [
    "# Delete the schema if it already exists\n",
    "if client.schema.exists(\"Question\"):\n",
    "    client.schema.delete_class(\"Question\")"
   ]
  },
  {
   "cell_type": "code",
   "execution_count": 14,
   "metadata": {},
   "outputs": [],
   "source": [
    "# Create the schema\n",
    "class_obj = {\n",
    "    \"class\": \"Question\",\n",
    "    \"vectorizer\": \"text2vec-huggingface\",\n",
    "}"
   ]
  },
  {
   "cell_type": "code",
   "execution_count": 15,
   "metadata": {},
   "outputs": [],
   "source": [
    "# Use the object above to create the schema\n",
    "client.schema.create_class(class_obj)"
   ]
  },
  {
   "cell_type": "code",
   "execution_count": 16,
   "metadata": {},
   "outputs": [
    {
     "name": "stdout",
     "output_type": "stream",
     "text": [
      "Adding question 0 to the batch\n",
      "Adding question 1 to the batch\n",
      "Adding question 2 to the batch\n",
      "Adding question 3 to the batch\n",
      "Adding question 4 to the batch\n",
      "Adding question 5 to the batch\n",
      "Adding question 6 to the batch\n",
      "Adding question 7 to the batch\n",
      "Adding question 8 to the batch\n",
      "Adding question 9 to the batch\n"
     ]
    }
   ],
   "source": [
    "with client.batch.configure() as batch:\n",
    "    for i, question in enumerate(data):\n",
    "        print(f\"Adding question {i} to the batch\")\n",
    "        # Add the data to the batch\n",
    "        batch.add_data_object(\n",
    "            data_object={\n",
    "                \"answer\": question[\"Answer\"],\n",
    "                \"question\": question[\"Question\"],\n",
    "                \"category\": question[\"Category\"]\n",
    "            },\n",
    "            class_name=\"Question\",\n",
    "        )"
   ]
  },
  {
   "cell_type": "code",
   "execution_count": 17,
   "metadata": {},
   "outputs": [
    {
     "name": "stdout",
     "output_type": "stream",
     "text": [
      "{\n",
      "  \"data\": {\n",
      "    \"Aggregate\": {\n",
      "      \"Question\": [\n",
      "        {\n",
      "          \"meta\": {\n",
      "            \"count\": 10\n",
      "          }\n",
      "        }\n",
      "      ]\n",
      "    }\n",
      "  }\n",
      "}\n"
     ]
    }
   ],
   "source": [
    "# Check how many object we have loaded\n",
    "json_data(client.query.aggregate(\"Question\").with_meta_count().do())"
   ]
  },
  {
   "cell_type": "code",
   "execution_count": 19,
   "metadata": {},
   "outputs": [
    {
     "name": "stdout",
     "output_type": "stream",
     "text": [
      "{\n",
      "  \"data\": {\n",
      "    \"Get\": {\n",
      "      \"Question\": [\n",
      "        {\n",
      "          \"answer\": \"species\",\n",
      "          \"question\": \"2000 news: the Gunnison sage grouse isn't just another northern sage grouse, but a new one of this classification\"\n",
      "        },\n",
      "        {\n",
      "          \"answer\": \"the atmosphere\",\n",
      "          \"question\": \"Changes in the tropospheric layer of this are what gives us weather\"\n",
      "        },\n",
      "        {\n",
      "          \"answer\": \"wire\",\n",
      "          \"question\": \"A metal that is ductile can be pulled into this while cold & under pressure\"\n",
      "        }\n",
      "      ]\n",
      "    }\n",
      "  }\n",
      "}\n"
     ]
    }
   ],
   "source": [
    "# Extract and show any 3 questions and answers\n",
    "json_data(client.query.get(\"Question\", ['question', 'answer']).with_limit(3).do())"
   ]
  },
  {
   "cell_type": "code",
   "execution_count": null,
   "metadata": {},
   "outputs": [],
   "source": []
  }
 ],
 "metadata": {
  "kernelspec": {
   "display_name": "env",
   "language": "python",
   "name": "python3"
  },
  "language_info": {
   "codemirror_mode": {
    "name": "ipython",
    "version": 3
   },
   "file_extension": ".py",
   "mimetype": "text/x-python",
   "name": "python",
   "nbconvert_exporter": "python",
   "pygments_lexer": "ipython3",
   "version": "3.11.2"
  }
 },
 "nbformat": 4,
 "nbformat_minor": 2
}
